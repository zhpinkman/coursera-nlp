{
  "nbformat": 4,
  "nbformat_minor": 0,
  "metadata": {
    "colab": {
      "name": "NER-task.ipynb",
      "provenance": [],
      "collapsed_sections": [],
      "authorship_tag": "ABX9TyORClLXG+zebSmXW9Fjx3WQ",
      "include_colab_link": true
    },
    "kernelspec": {
      "name": "python3",
      "display_name": "Python 3"
    },
    "accelerator": "GPU"
  },
  "cells": [
    {
      "cell_type": "markdown",
      "metadata": {
        "id": "view-in-github",
        "colab_type": "text"
      },
      "source": [
        "<a href=\"https://colab.research.google.com/github/zhpinkman/coursera-nlp/blob/master/NER_task.ipynb\" target=\"_parent\"><img src=\"https://colab.research.google.com/assets/colab-badge.svg\" alt=\"Open In Colab\"/></a>"
      ]
    },
    {
      "cell_type": "code",
      "metadata": {
        "id": "mcealS_kJAmV",
        "colab_type": "code",
        "colab": {}
      },
      "source": [
        "import pandas as pd\n",
        "import numpy as np"
      ],
      "execution_count": 1,
      "outputs": []
    },
    {
      "cell_type": "code",
      "metadata": {
        "id": "Qll-UU1MMY2s",
        "colab_type": "code",
        "colab": {
          "base_uri": "https://localhost:8080/",
          "height": 590
        },
        "outputId": "c8403e51-52c3-4e68-d5c9-46f59b7d8513"
      },
      "source": [
        "!wget https://raw.githubusercontent.com/Text-Mining/Persian-NER/master/Persian-NER-part3.txt\n",
        "!wget https://raw.githubusercontent.com/Text-Mining/Persian-NER/master/Persian-NER-part4.txt\n",
        "!wget https://raw.githubusercontent.com/Text-Mining/Persian-NER/master/Persian-NER-part5.txt"
      ],
      "execution_count": 2,
      "outputs": [
        {
          "output_type": "stream",
          "text": [
            "--2020-08-18 17:19:04--  https://raw.githubusercontent.com/Text-Mining/Persian-NER/master/Persian-NER-part3.txt\n",
            "Resolving raw.githubusercontent.com (raw.githubusercontent.com)... 151.101.0.133, 151.101.64.133, 151.101.128.133, ...\n",
            "Connecting to raw.githubusercontent.com (raw.githubusercontent.com)|151.101.0.133|:443... connected.\n",
            "HTTP request sent, awaiting response... 200 OK\n",
            "Length: 56781530 (54M) [text/plain]\n",
            "Saving to: ‘Persian-NER-part3.txt’\n",
            "\n",
            "\rPersian-NER-part3.t   0%[                    ]       0  --.-KB/s               \rPersian-NER-part3.t   4%[                    ]   2.50M  12.5MB/s               \rPersian-NER-part3.t  17%[==>                 ]   9.23M  23.0MB/s               \rPersian-NER-part3.t  47%[========>           ]  25.94M  43.1MB/s               \rPersian-NER-part3.t 100%[===================>]  54.15M  72.1MB/s    in 0.8s    \n",
            "\n",
            "2020-08-18 17:19:05 (72.1 MB/s) - ‘Persian-NER-part3.txt’ saved [56781530/56781530]\n",
            "\n",
            "--2020-08-18 17:19:14--  https://raw.githubusercontent.com/Text-Mining/Persian-NER/master/Persian-NER-part4.txt\n",
            "Resolving raw.githubusercontent.com (raw.githubusercontent.com)... 151.101.0.133, 151.101.64.133, 151.101.128.133, ...\n",
            "Connecting to raw.githubusercontent.com (raw.githubusercontent.com)|151.101.0.133|:443... connected.\n",
            "HTTP request sent, awaiting response... 200 OK\n",
            "Length: 57089399 (54M) [text/plain]\n",
            "Saving to: ‘Persian-NER-part4.txt’\n",
            "\n",
            "Persian-NER-part4.t 100%[===================>]  54.44M  8.77MB/s    in 8.3s    \n",
            "\n",
            "2020-08-18 17:19:23 (6.53 MB/s) - ‘Persian-NER-part4.txt’ saved [57089399/57089399]\n",
            "\n",
            "--2020-08-18 17:19:26--  https://raw.githubusercontent.com/Text-Mining/Persian-NER/master/Persian-NER-part5.txt\n",
            "Resolving raw.githubusercontent.com (raw.githubusercontent.com)... 151.101.0.133, 151.101.64.133, 151.101.128.133, ...\n",
            "Connecting to raw.githubusercontent.com (raw.githubusercontent.com)|151.101.0.133|:443... connected.\n",
            "HTTP request sent, awaiting response... 200 OK\n",
            "Length: 68739668 (66M) [text/plain]\n",
            "Saving to: ‘Persian-NER-part5.txt’\n",
            "\n",
            "Persian-NER-part5.t 100%[===================>]  65.55M  81.8MB/s    in 0.8s    \n",
            "\n",
            "2020-08-18 17:19:28 (81.8 MB/s) - ‘Persian-NER-part5.txt’ saved [68739668/68739668]\n",
            "\n"
          ],
          "name": "stdout"
        }
      ]
    },
    {
      "cell_type": "code",
      "metadata": {
        "id": "fTzXThr1PLXX",
        "colab_type": "code",
        "colab": {}
      },
      "source": [
        "raw_datas_x = []\n",
        "raw_datas_y = []\n",
        "current_line_x = []\n",
        "current_line_y = []\n",
        "for i in range(3, 6):\n",
        "    with open('Persian-NER-part' + str(i) + '.txt') as data_file:\n",
        "        for line in data_file:\n",
        "            line = line[:-1]\n",
        "            line_data = line.split('\\t')\n",
        "            if line_data[0] == '':\n",
        "                raw_datas_x.append(current_line_x)\n",
        "                raw_datas_y.append(current_line_y)\n",
        "                current_line_x = []\n",
        "                current_line_y = []\n",
        "            else:\n",
        "                current_line_x.append(line_data[0])\n",
        "                current_line_y.append(line_data[1])"
      ],
      "execution_count": 3,
      "outputs": []
    },
    {
      "cell_type": "code",
      "metadata": {
        "id": "mX0yvjmPThiN",
        "colab_type": "code",
        "colab": {
          "base_uri": "https://localhost:8080/",
          "height": 712
        },
        "outputId": "7addea13-da11-4a73-b9f6-42fc3c4dc2f4"
      },
      "source": [
        "raw_datas_x[1], raw_datas_y[1]"
      ],
      "execution_count": 4,
      "outputs": [
        {
          "output_type": "execute_result",
          "data": {
            "text/plain": [
              "(['سلمان',\n",
              "  'ذاکر',\n",
              "  '،',\n",
              "  'نماینده',\n",
              "  'ارومیه',\n",
              "  'و',\n",
              "  'عضو',\n",
              "  'کمیسیون',\n",
              "  'قضایی',\n",
              "  'مجلس',\n",
              "  '،',\n",
              "  'از',\n",
              "  'شکایت',\n",
              "  'نمایندگان',\n",
              "  'از',\n",
              "  'میرحسین',\n",
              "  'موسوی',\n",
              "  'خبر',\n",
              "  'داد',\n",
              "  '.'],\n",
              " ['O',\n",
              "  'O',\n",
              "  'O',\n",
              "  'O',\n",
              "  'B-LOC',\n",
              "  'O',\n",
              "  'O',\n",
              "  'B-ORG',\n",
              "  'I-ORG',\n",
              "  'I-ORG',\n",
              "  'O',\n",
              "  'O',\n",
              "  'O',\n",
              "  'O',\n",
              "  'O',\n",
              "  'B-PER',\n",
              "  'I-PER',\n",
              "  'O',\n",
              "  'O',\n",
              "  'O'])"
            ]
          },
          "metadata": {
            "tags": []
          },
          "execution_count": 4
        }
      ]
    },
    {
      "cell_type": "code",
      "metadata": {
        "id": "P6MAHu6xZ7-R",
        "colab_type": "code",
        "colab": {}
      },
      "source": [
        "sentence_index_array = []\n",
        "word_array = []\n",
        "tag_array = []\n",
        "for i in range(len(raw_datas_x)):\n",
        "    for j in range(len(raw_datas_x[i])):\n",
        "        sentence_index_array.append(i)\n",
        "        word_array.append(raw_datas_x[i][j])\n",
        "        tag_array.append(raw_datas_y[i][j])"
      ],
      "execution_count": 5,
      "outputs": []
    },
    {
      "cell_type": "code",
      "metadata": {
        "id": "zIf21HQKbZHm",
        "colab_type": "code",
        "colab": {
          "base_uri": "https://localhost:8080/",
          "height": 34
        },
        "outputId": "d1e9fb2c-3b0c-440a-aa4f-eb5663f268d8"
      },
      "source": [
        "len(sentence_index_array), len(word_array), len(tag_array)"
      ],
      "execution_count": 6,
      "outputs": [
        {
          "output_type": "execute_result",
          "data": {
            "text/plain": [
              "(15395862, 15395862, 15395862)"
            ]
          },
          "metadata": {
            "tags": []
          },
          "execution_count": 6
        }
      ]
    },
    {
      "cell_type": "code",
      "metadata": {
        "id": "13zz917NZXdg",
        "colab_type": "code",
        "colab": {
          "base_uri": "https://localhost:8080/",
          "height": 206
        },
        "outputId": "16bafdfd-0f9a-4446-d541-9538b27d6405"
      },
      "source": [
        "df = pd.DataFrame({'Sentence': sentence_index_array, 'Word': word_array, 'Tag': tag_array})\n",
        "df = df.drop(df[df['Tag'] == ''].index)\n",
        "df.head()"
      ],
      "execution_count": 7,
      "outputs": [
        {
          "output_type": "execute_result",
          "data": {
            "text/html": [
              "<div>\n",
              "<style scoped>\n",
              "    .dataframe tbody tr th:only-of-type {\n",
              "        vertical-align: middle;\n",
              "    }\n",
              "\n",
              "    .dataframe tbody tr th {\n",
              "        vertical-align: top;\n",
              "    }\n",
              "\n",
              "    .dataframe thead th {\n",
              "        text-align: right;\n",
              "    }\n",
              "</style>\n",
              "<table border=\"1\" class=\"dataframe\">\n",
              "  <thead>\n",
              "    <tr style=\"text-align: right;\">\n",
              "      <th></th>\n",
              "      <th>Sentence</th>\n",
              "      <th>Word</th>\n",
              "      <th>Tag</th>\n",
              "    </tr>\n",
              "  </thead>\n",
              "  <tbody>\n",
              "    <tr>\n",
              "      <th>0</th>\n",
              "      <td>0</td>\n",
              "      <td>این</td>\n",
              "      <td>O</td>\n",
              "    </tr>\n",
              "    <tr>\n",
              "      <th>1</th>\n",
              "      <td>0</td>\n",
              "      <td>بیانیه‌ها</td>\n",
              "      <td>O</td>\n",
              "    </tr>\n",
              "    <tr>\n",
              "      <th>2</th>\n",
              "      <td>0</td>\n",
              "      <td>نقش</td>\n",
              "      <td>O</td>\n",
              "    </tr>\n",
              "    <tr>\n",
              "      <th>3</th>\n",
              "      <td>0</td>\n",
              "      <td>مهمی</td>\n",
              "      <td>B-DAT</td>\n",
              "    </tr>\n",
              "    <tr>\n",
              "      <th>4</th>\n",
              "      <td>0</td>\n",
              "      <td>در</td>\n",
              "      <td>O</td>\n",
              "    </tr>\n",
              "  </tbody>\n",
              "</table>\n",
              "</div>"
            ],
            "text/plain": [
              "   Sentence       Word    Tag\n",
              "0         0        این      O\n",
              "1         0  بیانیه‌ها      O\n",
              "2         0        نقش      O\n",
              "3         0       مهمی  B-DAT\n",
              "4         0         در      O"
            ]
          },
          "metadata": {
            "tags": []
          },
          "execution_count": 7
        }
      ]
    },
    {
      "cell_type": "code",
      "metadata": {
        "id": "YrilBhhoWccb",
        "colab_type": "code",
        "colab": {}
      },
      "source": [
        "df = df.set_index('Sentence')"
      ],
      "execution_count": 8,
      "outputs": []
    },
    {
      "cell_type": "code",
      "metadata": {
        "id": "5P_wj1KlkuBv",
        "colab_type": "code",
        "colab": {
          "base_uri": "https://localhost:8080/",
          "height": 243
        },
        "outputId": "438362d5-9575-4be5-efca-dc884861199c"
      },
      "source": [
        "df.groupby(level=0).size()"
      ],
      "execution_count": 9,
      "outputs": [
        {
          "output_type": "execute_result",
          "data": {
            "text/plain": [
              "Sentence\n",
              "0         15\n",
              "1         20\n",
              "2         21\n",
              "3         28\n",
              "4         45\n",
              "          ..\n",
              "604585    16\n",
              "604586    19\n",
              "604587    36\n",
              "604588    21\n",
              "604589    17\n",
              "Length: 604590, dtype: int64"
            ]
          },
          "metadata": {
            "tags": []
          },
          "execution_count": 9
        }
      ]
    },
    {
      "cell_type": "code",
      "metadata": {
        "id": "wxQbf2ZXcXxu",
        "colab_type": "code",
        "colab": {
          "base_uri": "https://localhost:8080/",
          "height": 34
        },
        "outputId": "5dc30f54-ffa1-4694-b8ca-44984f94707f"
      },
      "source": [
        "mean_sentence_length = df.groupby(level=0).apply(lambda x: len(x)).mean()\n",
        "print('sentences mean length is: ', mean_sentence_length)"
      ],
      "execution_count": 10,
      "outputs": [
        {
          "output_type": "stream",
          "text": [
            "sentences mean length is:  25.46495972477216\n"
          ],
          "name": "stdout"
        }
      ]
    },
    {
      "cell_type": "code",
      "metadata": {
        "id": "zhMuEvZgcdUo",
        "colab_type": "code",
        "colab": {}
      },
      "source": [
        "def get_dict_map(data, token_or_tag):\n",
        "    tok2idx = {}\n",
        "    idx2tok = {}\n",
        "\n",
        "    if token_or_tag == 'token':\n",
        "        vocab = list(set(data['Word'].tolist()))\n",
        "    else:\n",
        "        vocab = list(set(data['Tag'].tolist()))\n",
        "\n",
        "    idx2tok = {idx:tok for idx, tok in enumerate(vocab)}\n",
        "    tok2idx = {tok:idx for idx, tok in idx2tok.items()}\n",
        "\n",
        "    return tok2idx, idx2tok"
      ],
      "execution_count": 11,
      "outputs": []
    },
    {
      "cell_type": "code",
      "metadata": {
        "id": "C84UoZXdg3tB",
        "colab_type": "code",
        "colab": {}
      },
      "source": [
        "token2idx, idx2token = get_dict_map(df, 'token')\n",
        "tag2idx, idx2tag = get_dict_map(df, 'tag')"
      ],
      "execution_count": 12,
      "outputs": []
    },
    {
      "cell_type": "code",
      "metadata": {
        "id": "vP3dFjOEhDae",
        "colab_type": "code",
        "colab": {}
      },
      "source": [
        "df['Word_idx'] = df['Word'].map(token2idx)\n",
        "df['Tag_idx'] = df['Tag'].map(tag2idx)"
      ],
      "execution_count": 13,
      "outputs": []
    },
    {
      "cell_type": "code",
      "metadata": {
        "id": "wlF5DevqhSv5",
        "colab_type": "code",
        "colab": {
          "base_uri": "https://localhost:8080/",
          "height": 394
        },
        "outputId": "a30bbd62-5f4a-4eee-c82a-b3521f5b3a83"
      },
      "source": [
        "df.head(10)"
      ],
      "execution_count": 14,
      "outputs": [
        {
          "output_type": "execute_result",
          "data": {
            "text/html": [
              "<div>\n",
              "<style scoped>\n",
              "    .dataframe tbody tr th:only-of-type {\n",
              "        vertical-align: middle;\n",
              "    }\n",
              "\n",
              "    .dataframe tbody tr th {\n",
              "        vertical-align: top;\n",
              "    }\n",
              "\n",
              "    .dataframe thead th {\n",
              "        text-align: right;\n",
              "    }\n",
              "</style>\n",
              "<table border=\"1\" class=\"dataframe\">\n",
              "  <thead>\n",
              "    <tr style=\"text-align: right;\">\n",
              "      <th></th>\n",
              "      <th>Word</th>\n",
              "      <th>Tag</th>\n",
              "      <th>Word_idx</th>\n",
              "      <th>Tag_idx</th>\n",
              "    </tr>\n",
              "    <tr>\n",
              "      <th>Sentence</th>\n",
              "      <th></th>\n",
              "      <th></th>\n",
              "      <th></th>\n",
              "      <th></th>\n",
              "    </tr>\n",
              "  </thead>\n",
              "  <tbody>\n",
              "    <tr>\n",
              "      <th>0</th>\n",
              "      <td>این</td>\n",
              "      <td>O</td>\n",
              "      <td>29848</td>\n",
              "      <td>5</td>\n",
              "    </tr>\n",
              "    <tr>\n",
              "      <th>0</th>\n",
              "      <td>بیانیه‌ها</td>\n",
              "      <td>O</td>\n",
              "      <td>145551</td>\n",
              "      <td>5</td>\n",
              "    </tr>\n",
              "    <tr>\n",
              "      <th>0</th>\n",
              "      <td>نقش</td>\n",
              "      <td>O</td>\n",
              "      <td>97981</td>\n",
              "      <td>5</td>\n",
              "    </tr>\n",
              "    <tr>\n",
              "      <th>0</th>\n",
              "      <td>مهمی</td>\n",
              "      <td>B-DAT</td>\n",
              "      <td>221400</td>\n",
              "      <td>1</td>\n",
              "    </tr>\n",
              "    <tr>\n",
              "      <th>0</th>\n",
              "      <td>در</td>\n",
              "      <td>O</td>\n",
              "      <td>180530</td>\n",
              "      <td>5</td>\n",
              "    </tr>\n",
              "    <tr>\n",
              "      <th>0</th>\n",
              "      <td>اعتراضات</td>\n",
              "      <td>O</td>\n",
              "      <td>66666</td>\n",
              "      <td>5</td>\n",
              "    </tr>\n",
              "    <tr>\n",
              "      <th>0</th>\n",
              "      <td>گسترده</td>\n",
              "      <td>O</td>\n",
              "      <td>183228</td>\n",
              "      <td>5</td>\n",
              "    </tr>\n",
              "    <tr>\n",
              "      <th>0</th>\n",
              "      <td>مردمی</td>\n",
              "      <td>O</td>\n",
              "      <td>264351</td>\n",
              "      <td>5</td>\n",
              "    </tr>\n",
              "    <tr>\n",
              "      <th>0</th>\n",
              "      <td>در</td>\n",
              "      <td>O</td>\n",
              "      <td>180530</td>\n",
              "      <td>5</td>\n",
              "    </tr>\n",
              "    <tr>\n",
              "      <th>0</th>\n",
              "      <td>ماه‌های</td>\n",
              "      <td>O</td>\n",
              "      <td>83446</td>\n",
              "      <td>5</td>\n",
              "    </tr>\n",
              "  </tbody>\n",
              "</table>\n",
              "</div>"
            ],
            "text/plain": [
              "               Word    Tag  Word_idx  Tag_idx\n",
              "Sentence                                     \n",
              "0               این      O     29848        5\n",
              "0         بیانیه‌ها      O    145551        5\n",
              "0               نقش      O     97981        5\n",
              "0              مهمی  B-DAT    221400        1\n",
              "0                در      O    180530        5\n",
              "0          اعتراضات      O     66666        5\n",
              "0            گسترده      O    183228        5\n",
              "0             مردمی      O    264351        5\n",
              "0                در      O    180530        5\n",
              "0           ماه‌های      O     83446        5"
            ]
          },
          "metadata": {
            "tags": []
          },
          "execution_count": 14
        }
      ]
    },
    {
      "cell_type": "code",
      "metadata": {
        "id": "pUNdz270hnGe",
        "colab_type": "code",
        "colab": {
          "base_uri": "https://localhost:8080/",
          "height": 52
        },
        "outputId": "b9884553-8b57-4af6-ddc3-8f691d93e95b"
      },
      "source": [
        "print('before nan dropping: ', len(df))\n",
        "df = df.fillna(method='ffill', axis=0)\n",
        "print('after nan dropping: ', len(df))"
      ],
      "execution_count": 15,
      "outputs": [
        {
          "output_type": "stream",
          "text": [
            "before nan dropping:  15395860\n",
            "after nan dropping:  15395860\n"
          ],
          "name": "stdout"
        }
      ]
    },
    {
      "cell_type": "code",
      "metadata": {
        "id": "GvoWZUVYl4I_",
        "colab_type": "code",
        "colab": {
          "base_uri": "https://localhost:8080/",
          "height": 238
        },
        "outputId": "267aa1ad-56b9-4234-8cfa-714a2ba6dee7"
      },
      "source": [
        "grouped_data = df.groupby(level=0).agg(lambda x: list(x))\n",
        "grouped_data.head()"
      ],
      "execution_count": 16,
      "outputs": [
        {
          "output_type": "execute_result",
          "data": {
            "text/html": [
              "<div>\n",
              "<style scoped>\n",
              "    .dataframe tbody tr th:only-of-type {\n",
              "        vertical-align: middle;\n",
              "    }\n",
              "\n",
              "    .dataframe tbody tr th {\n",
              "        vertical-align: top;\n",
              "    }\n",
              "\n",
              "    .dataframe thead th {\n",
              "        text-align: right;\n",
              "    }\n",
              "</style>\n",
              "<table border=\"1\" class=\"dataframe\">\n",
              "  <thead>\n",
              "    <tr style=\"text-align: right;\">\n",
              "      <th></th>\n",
              "      <th>Word</th>\n",
              "      <th>Tag</th>\n",
              "      <th>Word_idx</th>\n",
              "      <th>Tag_idx</th>\n",
              "    </tr>\n",
              "    <tr>\n",
              "      <th>Sentence</th>\n",
              "      <th></th>\n",
              "      <th></th>\n",
              "      <th></th>\n",
              "      <th></th>\n",
              "    </tr>\n",
              "  </thead>\n",
              "  <tbody>\n",
              "    <tr>\n",
              "      <th>0</th>\n",
              "      <td>[این, بیانیه‌ها, نقش, مهمی, در, اعتراضات, گستر...</td>\n",
              "      <td>[O, O, O, B-DAT, O, O, O, O, O, O, O, O, O, O, O]</td>\n",
              "      <td>[29848, 145551, 97981, 221400, 180530, 66666, ...</td>\n",
              "      <td>[5, 5, 5, 1, 5, 5, 5, 5, 5, 5, 5, 5, 5, 5, 5]</td>\n",
              "    </tr>\n",
              "    <tr>\n",
              "      <th>1</th>\n",
              "      <td>[سلمان, ذاکر, ،, نماینده, ارومیه, و, عضو, کمیس...</td>\n",
              "      <td>[O, O, O, O, B-LOC, O, O, B-ORG, I-ORG, I-ORG,...</td>\n",
              "      <td>[45215, 86817, 86074, 265789, 9152, 151370, 13...</td>\n",
              "      <td>[5, 5, 5, 5, 0, 5, 5, 8, 7, 7, 5, 5, 5, 5, 5, ...</td>\n",
              "    </tr>\n",
              "    <tr>\n",
              "      <th>2</th>\n",
              "      <td>[وی, میرحسین, موسوی, را, به, اقدام, علیه, امنی...</td>\n",
              "      <td>[O, B-PER, I-PER, O, O, O, O, O, O, O, O, O, O...</td>\n",
              "      <td>[140135, 252153, 187671, 121970, 198962, 18513...</td>\n",
              "      <td>[5, 6, 4, 5, 5, 5, 5, 5, 5, 5, 5, 5, 5, 5, 5, ...</td>\n",
              "    </tr>\n",
              "    <tr>\n",
              "      <th>3</th>\n",
              "      <td>[دیده‌بان, حقوق, بشر, به, نقش, سعید, مرتضوی, د...</td>\n",
              "      <td>[B-ORG, I-ORG, I-ORG, O, O, B-PER, I-PER, O, O...</td>\n",
              "      <td>[267374, 131969, 214233, 198962, 97981, 56532,...</td>\n",
              "      <td>[8, 7, 7, 5, 5, 6, 4, 5, 5, 5, 5, 5, 5, 5, 5, ...</td>\n",
              "    </tr>\n",
              "    <tr>\n",
              "      <th>4</th>\n",
              "      <td>[دیده‌بان, حقوق, بشر, معتقد, است, :, جمهوری, ا...</td>\n",
              "      <td>[B-ORG, I-ORG, I-ORG, O, O, O, B-ORG, I-ORG, I...</td>\n",
              "      <td>[267374, 131969, 214233, 143609, 197289, 10096...</td>\n",
              "      <td>[8, 7, 7, 5, 5, 5, 8, 7, 7, 5, 5, 5, 5, 5, 5, ...</td>\n",
              "    </tr>\n",
              "  </tbody>\n",
              "</table>\n",
              "</div>"
            ],
            "text/plain": [
              "                                                       Word  ...                                            Tag_idx\n",
              "Sentence                                                     ...                                                   \n",
              "0         [این, بیانیه‌ها, نقش, مهمی, در, اعتراضات, گستر...  ...      [5, 5, 5, 1, 5, 5, 5, 5, 5, 5, 5, 5, 5, 5, 5]\n",
              "1         [سلمان, ذاکر, ،, نماینده, ارومیه, و, عضو, کمیس...  ...  [5, 5, 5, 5, 0, 5, 5, 8, 7, 7, 5, 5, 5, 5, 5, ...\n",
              "2         [وی, میرحسین, موسوی, را, به, اقدام, علیه, امنی...  ...  [5, 6, 4, 5, 5, 5, 5, 5, 5, 5, 5, 5, 5, 5, 5, ...\n",
              "3         [دیده‌بان, حقوق, بشر, به, نقش, سعید, مرتضوی, د...  ...  [8, 7, 7, 5, 5, 6, 4, 5, 5, 5, 5, 5, 5, 5, 5, ...\n",
              "4         [دیده‌بان, حقوق, بشر, معتقد, است, :, جمهوری, ا...  ...  [8, 7, 7, 5, 5, 5, 8, 7, 7, 5, 5, 5, 5, 5, 5, ...\n",
              "\n",
              "[5 rows x 4 columns]"
            ]
          },
          "metadata": {
            "tags": []
          },
          "execution_count": 16
        }
      ]
    },
    {
      "cell_type": "code",
      "metadata": {
        "id": "4cO5S0Ggee1I",
        "colab_type": "code",
        "colab": {
          "base_uri": "https://localhost:8080/",
          "height": 104
        },
        "outputId": "c3ad6075-48fc-48ff-bbd2-3996cd9817c7"
      },
      "source": [
        "grouped_data.isnull().any()"
      ],
      "execution_count": 17,
      "outputs": [
        {
          "output_type": "execute_result",
          "data": {
            "text/plain": [
              "Word        False\n",
              "Tag         False\n",
              "Word_idx    False\n",
              "Tag_idx     False\n",
              "dtype: bool"
            ]
          },
          "metadata": {
            "tags": []
          },
          "execution_count": 17
        }
      ]
    },
    {
      "cell_type": "code",
      "metadata": {
        "id": "D122DaVhm3Sb",
        "colab_type": "code",
        "colab": {}
      },
      "source": [
        "from sklearn.model_selection import train_test_split\n",
        "from keras.preprocessing.sequence import pad_sequences\n",
        "from keras.utils import to_categorical"
      ],
      "execution_count": 18,
      "outputs": []
    },
    {
      "cell_type": "code",
      "metadata": {
        "id": "DQhI2p5SnD4w",
        "colab_type": "code",
        "colab": {
          "base_uri": "https://localhost:8080/",
          "height": 52
        },
        "outputId": "7c638f1d-a388-459d-c686-d928e18cbdd9"
      },
      "source": [
        "n_tokens = len(df['Word'].unique())\n",
        "n_tags = len(df['Tag'].unique())\n",
        "print('unique tokens: ', n_tokens)\n",
        "print('unique tags: ', n_tags)"
      ],
      "execution_count": 19,
      "outputs": [
        {
          "output_type": "stream",
          "text": [
            "unique tokens:  274119\n",
            "unique tags:  11\n"
          ],
          "name": "stdout"
        }
      ]
    },
    {
      "cell_type": "code",
      "metadata": {
        "id": "yfYldGZGcKsw",
        "colab_type": "code",
        "colab": {
          "base_uri": "https://localhost:8080/",
          "height": 52
        },
        "outputId": "d61f816a-e2c6-4d66-a771-078f7ff52c09"
      },
      "source": [
        "df['Tag'].unique()"
      ],
      "execution_count": 20,
      "outputs": [
        {
          "output_type": "execute_result",
          "data": {
            "text/plain": [
              "array(['O', 'B-DAT', 'B-LOC', 'B-ORG', 'I-ORG', 'B-PER', 'I-PER', 'I-LOC',\n",
              "       'I-DAT', 'B-EVE', 'I-EVE'], dtype=object)"
            ]
          },
          "metadata": {
            "tags": []
          },
          "execution_count": 20
        }
      ]
    },
    {
      "cell_type": "code",
      "metadata": {
        "id": "ZpawrvlLpe7H",
        "colab_type": "code",
        "colab": {
          "base_uri": "https://localhost:8080/",
          "height": 34
        },
        "outputId": "445cf9a1-9db7-4640-ecbe-6ed96bc8137b"
      },
      "source": [
        "tokens = grouped_data['Word_idx'].tolist()\n",
        "pad_tokens = pad_sequences(tokens, maxlen=int(mean_sentence_length) + 20, padding='post')\n",
        "print(pad_tokens.shape)"
      ],
      "execution_count": 21,
      "outputs": [
        {
          "output_type": "stream",
          "text": [
            "(604590, 45)\n"
          ],
          "name": "stdout"
        }
      ]
    },
    {
      "cell_type": "code",
      "metadata": {
        "id": "2i6ClegxreJO",
        "colab_type": "code",
        "colab": {}
      },
      "source": [
        "tags = grouped_data['Tag_idx'].tolist()\n",
        "pad_tags = pad_sequences(tags, maxlen=int(mean_sentence_length) + 20, padding='post', value= tag2idx[\"O\"])\n",
        "pad_tags = [to_categorical(i, num_classes=n_tags) for i in pad_tags]"
      ],
      "execution_count": 22,
      "outputs": []
    },
    {
      "cell_type": "code",
      "metadata": {
        "id": "IGyOgkOOvoBz",
        "colab_type": "code",
        "colab": {}
      },
      "source": [
        "train_tokens, test_tokens, train_tags, test_tags = train_test_split(pad_tokens, pad_tags, test_size=0.01, train_size=0.99, random_state=2020)"
      ],
      "execution_count": 23,
      "outputs": []
    },
    {
      "cell_type": "code",
      "metadata": {
        "id": "HQO3zkkYwNEv",
        "colab_type": "code",
        "colab": {
          "base_uri": "https://localhost:8080/",
          "height": 86
        },
        "outputId": "802edf75-e2ec-4816-ff56-1423e72ba4de"
      },
      "source": [
        "print(\n",
        "        'train_tokens length:', len(train_tokens),\n",
        "        '\\ntrain_tags length:', len(train_tags),\n",
        "        '\\ntest_tokens length:', len(test_tokens),\n",
        "        '\\ntest_tags:', len(test_tags)\n",
        "    )"
      ],
      "execution_count": 24,
      "outputs": [
        {
          "output_type": "stream",
          "text": [
            "train_tokens length: 598544 \n",
            "train_tags length: 598544 \n",
            "test_tokens length: 6046 \n",
            "test_tags: 6046\n"
          ],
          "name": "stdout"
        }
      ]
    },
    {
      "cell_type": "code",
      "metadata": {
        "id": "V4F0KkWow_xH",
        "colab_type": "code",
        "colab": {}
      },
      "source": [
        "import numpy as np\n",
        "import tensorflow\n",
        "from tensorflow.keras import Sequential, Model, Input\n",
        "from tensorflow.keras.layers import LSTM, Embedding, Dense, TimeDistributed, Dropout, Bidirectional\n",
        "from tensorflow.keras.utils import plot_model"
      ],
      "execution_count": 25,
      "outputs": []
    },
    {
      "cell_type": "code",
      "metadata": {
        "id": "dkvLJp2AxWW-",
        "colab_type": "code",
        "colab": {}
      },
      "source": [
        "from numpy.random import seed\n",
        "seed(1)\n",
        "tensorflow.random.set_seed(2)"
      ],
      "execution_count": 26,
      "outputs": []
    },
    {
      "cell_type": "code",
      "metadata": {
        "id": "PTN1C829xaX5",
        "colab_type": "code",
        "colab": {
          "base_uri": "https://localhost:8080/",
          "height": 364
        },
        "outputId": "998f22de-c60a-42b1-d88d-6c4f68f73d11"
      },
      "source": [
        "output_dim = 100\n",
        "model = Sequential()\n",
        "model.add(Embedding(input_dim=len(token2idx) + 1, output_dim=output_dim, input_length=int(mean_sentence_length) + 20))\n",
        "\n",
        "# Add bidirectional LSTM\n",
        "model.add(Bidirectional(LSTM(units=output_dim, return_sequences=True, dropout=0.2, recurrent_dropout=0.2), merge_mode = 'concat'))\n",
        "\n",
        "# Add LSTM\n",
        "model.add(LSTM(units=output_dim, return_sequences=True, dropout=0.5, recurrent_dropout=0.5))\n",
        "\n",
        "# Add timeDistributed Layer\n",
        "model.add(TimeDistributed(Dense(n_tags, activation=\"relu\")))\n",
        "\n",
        "#Optimiser \n",
        "# adam = k.optimizers.Adam(lr=0.0005, beta_1=0.9, beta_2=0.999)\n",
        "\n",
        "# Compile model\n",
        "model.compile(loss='categorical_crossentropy', optimizer='adam', metrics=['accuracy'])\n",
        "model.summary()"
      ],
      "execution_count": 31,
      "outputs": [
        {
          "output_type": "stream",
          "text": [
            "WARNING:tensorflow:Layer lstm_2 will not use cuDNN kernel since it doesn't meet the cuDNN kernel criteria. It will use generic GPU kernel as fallback when running on GPU\n",
            "WARNING:tensorflow:Layer lstm_2 will not use cuDNN kernel since it doesn't meet the cuDNN kernel criteria. It will use generic GPU kernel as fallback when running on GPU\n",
            "WARNING:tensorflow:Layer lstm_2 will not use cuDNN kernel since it doesn't meet the cuDNN kernel criteria. It will use generic GPU kernel as fallback when running on GPU\n",
            "WARNING:tensorflow:Layer lstm_3 will not use cuDNN kernel since it doesn't meet the cuDNN kernel criteria. It will use generic GPU kernel as fallback when running on GPU\n",
            "Model: \"sequential_1\"\n",
            "_________________________________________________________________\n",
            "Layer (type)                 Output Shape              Param #   \n",
            "=================================================================\n",
            "embedding_1 (Embedding)      (None, 45, 100)           27412000  \n",
            "_________________________________________________________________\n",
            "bidirectional_1 (Bidirection (None, 45, 200)           160800    \n",
            "_________________________________________________________________\n",
            "lstm_3 (LSTM)                (None, 45, 100)           120400    \n",
            "_________________________________________________________________\n",
            "time_distributed_1 (TimeDist (None, 45, 11)            1111      \n",
            "=================================================================\n",
            "Total params: 27,694,311\n",
            "Trainable params: 27,694,311\n",
            "Non-trainable params: 0\n",
            "_________________________________________________________________\n"
          ],
          "name": "stdout"
        }
      ]
    },
    {
      "cell_type": "code",
      "metadata": {
        "id": "MVbbeaB20gSQ",
        "colab_type": "code",
        "colab": {
          "base_uri": "https://localhost:8080/",
          "height": 466
        },
        "outputId": "1e0166a2-98ed-44ac-adef-e3183fe707fd"
      },
      "source": [
        "plot_model(model)"
      ],
      "execution_count": 28,
      "outputs": [
        {
          "output_type": "execute_result",
          "data": {
            "image/png": "[encoded data removed]",
            "text/plain": [
              "<IPython.core.display.Image object>"
            ]
          },
          "metadata": {
            "tags": []
          },
          "execution_count": 28
        }
      ]
    },
    {
      "cell_type": "code",
      "metadata": {
        "id": "OKvRpS7F0V8N",
        "colab_type": "code",
        "colab": {}
      },
      "source": [
        "import matplotlib.pyplot as plt\n",
        "plt.style.use('ggplot')\n",
        "\n",
        "def plot_history(history):\n",
        "    acc = history.history['accuracy']\n",
        "    val_acc = history.history['val_accuracy']\n",
        "    loss = history.history['loss']\n",
        "    val_loss = history.history['val_loss']\n",
        "    x = range(1, len(acc) + 1)\n",
        "\n",
        "    plt.figure(figsize=(12, 5))\n",
        "    plt.subplot(1, 2, 1)\n",
        "    plt.plot(x, acc, 'b', label='Training acc')\n",
        "    plt.plot(x, val_acc, 'r', label='Validation acc')\n",
        "    plt.title('Training and validation accuracy')\n",
        "    plt.legend()\n",
        "    plt.subplot(1, 2, 2)\n",
        "    plt.plot(x, loss, 'b', label='Training loss')\n",
        "    plt.plot(x, val_loss, 'r', label='Validation loss')\n",
        "    plt.title('Training and validation loss')\n",
        "    plt.legend()"
      ],
      "execution_count": 29,
      "outputs": []
    },
    {
      "cell_type": "code",
      "metadata": {
        "id": "FqQMBqtBzOzJ",
        "colab_type": "code",
        "colab": {
          "base_uri": "https://localhost:8080/",
          "height": 121
        },
        "outputId": "7f991f4c-7990-41b9-9887-825dcfb4bc26"
      },
      "source": [
        "history = model.fit(train_tokens, np.array(train_tags), batch_size=512, epochs=3, validation_split=0.02)"
      ],
      "execution_count": 32,
      "outputs": [
        {
          "output_type": "stream",
          "text": [
            "Epoch 1/3\n",
            "1146/1146 [==============================] - 1266s 1s/step - loss: 0.3831 - accuracy: 0.9040 - val_loss: 0.2475 - val_accuracy: 0.9103\n",
            "Epoch 2/3\n",
            "1146/1146 [==============================] - 1270s 1s/step - loss: 0.2155 - accuracy: 0.9292 - val_loss: 0.2104 - val_accuracy: 0.9209\n",
            "Epoch 3/3\n",
            "1146/1146 [==============================] - 1250s 1s/step - loss: 0.1870 - accuracy: 0.9414 - val_loss: 0.1668 - val_accuracy: 0.9489\n"
          ],
          "name": "stdout"
        }
      ]
    },
    {
      "cell_type": "code",
      "metadata": {
        "id": "Yeo-qPwpL39F",
        "colab_type": "code",
        "colab": {
          "base_uri": "https://localhost:8080/",
          "height": 52
        },
        "outputId": "dac5baef-2e96-45f9-e14b-90836583dfc8"
      },
      "source": [
        "model.evaluate(test_tokens, np.array(test_tags))"
      ],
      "execution_count": 33,
      "outputs": [
        {
          "output_type": "stream",
          "text": [
            "189/189 [==============================] - 10s 52ms/step - loss: 0.1601 - accuracy: 0.9509\n"
          ],
          "name": "stdout"
        },
        {
          "output_type": "execute_result",
          "data": {
            "text/plain": [
              "[0.1600683033466339, 0.9508729577064514]"
            ]
          },
          "metadata": {
            "tags": []
          },
          "execution_count": 33
        }
      ]
    },
    {
      "cell_type": "code",
      "metadata": {
        "id": "fnCy7oyvMDV_",
        "colab_type": "code",
        "colab": {
          "base_uri": "https://localhost:8080/",
          "height": 337
        },
        "outputId": "0d871449-6bf9-459d-9c41-2087be98e1b6"
      },
      "source": [
        "plot_history(history)"
      ],
      "execution_count": 34,
      "outputs": [
        {
          "output_type": "display_data",
          "data": {
            "image/png": "[encoded data removed]",
            "text/plain": [
              "<Figure size 864x360 with 2 Axes>"
            ]
          },
          "metadata": {
            "tags": []
          }
        }
      ]
    }
  ]
}