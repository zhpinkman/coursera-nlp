{
  "nbformat": 4,
  "nbformat_minor": 0,
  "metadata": {
    "colab": {
      "name": "nlp-sentiment-analysis",
      "provenance": [],
      "collapsed_sections": [],
      "toc_visible": true,
      "authorship_tag": "ABX9TyPArn+xVEJJlqMKLAXabDeM",
      "include_colab_link": true
    },
    "kernelspec": {
      "name": "python3",
      "display_name": "Python 3"
    }
  },
  "cells": [
    {
      "cell_type": "markdown",
      "metadata": {
        "id": "view-in-github",
        "colab_type": "text"
      },
      "source": [
        "<a href=\"https://colab.research.google.com/github/zhpinkman/coursera-nlp/blob/master/nlp_sentiment_analysis.ipynb\" target=\"_parent\"><img src=\"https://colab.research.google.com/assets/colab-badge.svg\" alt=\"Open In Colab\"/></a>"
      ]
    },
    {
      "cell_type": "code",
      "metadata": {
        "id": "kpEwv4VhYlTZ",
        "colab_type": "code",
        "colab": {}
      },
      "source": [
        "import numpy as np\n",
        "import pandas as pd"
      ],
      "execution_count": 1,
      "outputs": []
    },
    {
      "cell_type": "code",
      "metadata": {
        "id": "sqaj_T3Tb-Wh",
        "colab_type": "code",
        "colab": {
          "base_uri": "https://localhost:8080/",
          "height": 441
        },
        "outputId": "efc544fb-6c6d-4046-ee08-607b5d123024"
      },
      "source": [
        "df = pd.read_csv('data.csv')\n",
        "print(df['Suggestion'].unique())\n",
        "df"
      ],
      "execution_count": 2,
      "outputs": [
        {
          "output_type": "stream",
          "text": [
            "[1 3 2]\n"
          ],
          "name": "stdout"
        },
        {
          "output_type": "execute_result",
          "data": {
            "text/html": [
              "<div>\n",
              "<style scoped>\n",
              "    .dataframe tbody tr th:only-of-type {\n",
              "        vertical-align: middle;\n",
              "    }\n",
              "\n",
              "    .dataframe tbody tr th {\n",
              "        vertical-align: top;\n",
              "    }\n",
              "\n",
              "    .dataframe thead th {\n",
              "        text-align: right;\n",
              "    }\n",
              "</style>\n",
              "<table border=\"1\" class=\"dataframe\">\n",
              "  <thead>\n",
              "    <tr style=\"text-align: right;\">\n",
              "      <th></th>\n",
              "      <th>Text</th>\n",
              "      <th>Score</th>\n",
              "      <th>Suggestion</th>\n",
              "    </tr>\n",
              "  </thead>\n",
              "  <tbody>\n",
              "    <tr>\n",
              "      <th>0</th>\n",
              "      <td>این اولین تجربه من برای خرید ایفون هست   امروز...</td>\n",
              "      <td>100</td>\n",
              "      <td>1</td>\n",
              "    </tr>\n",
              "    <tr>\n",
              "      <th>1</th>\n",
              "      <td>خرید این محصول رو توصیه میکنم</td>\n",
              "      <td>84</td>\n",
              "      <td>1</td>\n",
              "    </tr>\n",
              "    <tr>\n",
              "      <th>2</th>\n",
              "      <td>1 ساله این گوشی رو دارم   هیچ نقطه ضعفی ازش ند...</td>\n",
              "      <td>60</td>\n",
              "      <td>1</td>\n",
              "    </tr>\n",
              "    <tr>\n",
              "      <th>3</th>\n",
              "      <td>سلام خدمت دوستان این گوشی از همه نظر عالی  کیف...</td>\n",
              "      <td>96</td>\n",
              "      <td>1</td>\n",
              "    </tr>\n",
              "    <tr>\n",
              "      <th>4</th>\n",
              "      <td>سلام دوستانی که نگران شکستن صفحه نمایش هستند ا...</td>\n",
              "      <td>92</td>\n",
              "      <td>1</td>\n",
              "    </tr>\n",
              "    <tr>\n",
              "      <th>...</th>\n",
              "      <td>...</td>\n",
              "      <td>...</td>\n",
              "      <td>...</td>\n",
              "    </tr>\n",
              "    <tr>\n",
              "      <th>3256</th>\n",
              "      <td>کیفت ساختش خوبه تنوعش هم خوبه   فقط مشکلش اینه...</td>\n",
              "      <td>84</td>\n",
              "      <td>2</td>\n",
              "    </tr>\n",
              "    <tr>\n",
              "      <th>3257</th>\n",
              "      <td>خیلی خوب و به درد بخوره و اندازشم عالیه</td>\n",
              "      <td>100</td>\n",
              "      <td>1</td>\n",
              "    </tr>\n",
              "    <tr>\n",
              "      <th>3258</th>\n",
              "      <td>عالیه خیلی دوسش دارم قیمتش یه کم زیاده ولی به ...</td>\n",
              "      <td>100</td>\n",
              "      <td>1</td>\n",
              "    </tr>\n",
              "    <tr>\n",
              "      <th>3259</th>\n",
              "      <td>من این مینی فرز رو از دیحیکالا سفارش دادم و به...</td>\n",
              "      <td>84</td>\n",
              "      <td>1</td>\n",
              "    </tr>\n",
              "    <tr>\n",
              "      <th>3260</th>\n",
              "      <td>بعد از چند دقیقه که باهاش کار کنی سریع داغ میش...</td>\n",
              "      <td>48</td>\n",
              "      <td>3</td>\n",
              "    </tr>\n",
              "  </tbody>\n",
              "</table>\n",
              "<p>3261 rows × 3 columns</p>\n",
              "</div>"
            ],
            "text/plain": [
              "                                                   Text  Score  Suggestion\n",
              "0     این اولین تجربه من برای خرید ایفون هست   امروز...    100           1\n",
              "1                        خرید این محصول رو توصیه میکنم      84           1\n",
              "2     1 ساله این گوشی رو دارم   هیچ نقطه ضعفی ازش ند...     60           1\n",
              "3     سلام خدمت دوستان این گوشی از همه نظر عالی  کیف...     96           1\n",
              "4     سلام دوستانی که نگران شکستن صفحه نمایش هستند ا...     92           1\n",
              "...                                                 ...    ...         ...\n",
              "3256  کیفت ساختش خوبه تنوعش هم خوبه   فقط مشکلش اینه...     84           2\n",
              "3257           خیلی خوب و به درد بخوره و اندازشم عالیه     100           1\n",
              "3258  عالیه خیلی دوسش دارم قیمتش یه کم زیاده ولی به ...    100           1\n",
              "3259  من این مینی فرز رو از دیحیکالا سفارش دادم و به...     84           1\n",
              "3260  بعد از چند دقیقه که باهاش کار کنی سریع داغ میش...     48           3\n",
              "\n",
              "[3261 rows x 3 columns]"
            ]
          },
          "metadata": {
            "tags": []
          },
          "execution_count": 2
        }
      ]
    },
    {
      "cell_type": "code",
      "metadata": {
        "id": "U7YzNwKfuSkQ",
        "colab_type": "code",
        "colab": {
          "base_uri": "https://localhost:8080/",
          "height": 263
        },
        "outputId": "d211481c-e63e-4d00-8998-86f681d647c9"
      },
      "source": [
        "def calculate_lens(x):\n",
        "    text_list = x['Text'].split(' ')\n",
        "    return len(text_list)\n",
        "text_lens = df.apply(calculate_lens, axis=1)\n",
        "print(df['Text'][6])\n",
        "text_lens"
      ],
      "execution_count": 3,
      "outputs": [
        {
          "output_type": "stream",
          "text": [
            "اول از همه خوشحالم که بالاخره نسخه های 128 گیگابایتی برای فروش قرار گرفت چون همیشه من با حافظه گوشی های اندرویدی مشکل داشتم  گوشی قبلی من s7 بود و بعد از 2 سال استفاده که بسیار هم راضی بودم به دلیل تغییرات مثبتی که در گوشی های سامسونگ ایجاد شد تصمیم گرفتم گوشی رو عوض کنم این گوشی واقعا زیباست و طراحی منحصر به فردی داره  زمانی که گوشی رو در دست میگیرید بسیار خودش دست هست و حس خیلی خوبی داره تنها دلیلی که نسخه پلاس رو انتخاب نکردم بزرگی بیش از حد و وزن گوشی بود ولی این نسخه از نظر اندازه فوق العادست کیفیت و بلندی صدای  اسپیکر  ها عالی هست  زمانی که با گوشی قبلی خودم تست کردم واقعا تفاوت زیادی حس میشد  همچنین با گوشی HTC U11 هم مقایسه کردم و باز هم بلندی صدای اس 9 بیشتر بود اما از نظر کیفیت شاید کمی u11 بهتر بود  نگرانی من جای سنسور اثر انگشت بود چون با اس8 که کار کرده بودم اصلا جای مناسبی نداشت ولی این مشکل با تغییر جای سنسور بنظرم کاملا حل شده و سرعت سنسور هم عالی هست و با وجود Intelligent scan که ترکیب سنسور عنبیه و تشخیص چهره هست خیلی نیازی به اثر انگشت احساس نمیشه چون حتی توی تاریکی مطلق هم به سرعت گوشی از این طریق باز میشه اما یک ایراد امنیتی که دیدم این بود که اگر چشمای من بسته باشه باز هم با روش intelligent scan گوشی سریعا باز میشه ولی توی آیفون X ظاهرا با چشمان بسته گوشی باز نمیشه و این از نظر امنیت خیلی بهتره دوربین سلفی خیلی بهتر از گوشی قبلی من هست ولی تفاوت زیادی توی دوربین اصلی با گوشی قبلی خودم ندیدم درکل دوربین اصلی کیفیت خوبی داره و به نسبت نسل های قبل توی زوم آخر نویز کمتری دیده میشه یکی از قابلیت هایی که روی دوربین اس 9 پلاس وجود داره به دلیل دو دوربین بودن گوشی میتونه عکس های بوکه بگیره ولی این گوشی هم چنین قابلیتی داره به اسم selective focus که اگر جسم در فاصله نیم متری باشه دقیقا همون افکت بوکه رو میتونه اعمال کنه و از نظر عملکرد هم خوب بود و در نهایت کیفیت صفحه هم که فوق العادست و بنظرم بهترین هست  و چند مورد هم از نقاط ضعف بگم  باتری   باتری متاسفانه زیاد رضایت بخش نیست و بنظرم به زور میتونه گوشی رو از صبح ساعت 7 8 تا 12 شب برسونه البته استفاده من زیاد هست و همیشه اینترنت هم روشن هست مخصوصا 4G ولی باز انتظار بیشتری میرفت که ظاهرا نسخه پلاس توی این مورد بهتره  مورد بعد AR ایموجی هست که واقعا از نظر عملکرد ضعیف هست و کلا فقط یکبار تستش کردم و کلا ناامید شدم  و دوستان هم تست کردن و اصلا نتیجه جالبی نداشت و همرو  تقریبا یکسان نشون میده نمیدونم چرا سامسونگ این همه روی قابلیت AR ایموجی تبلیغ کرد وقتی به بلوغ نرسیده   و ای کاش مثل نسخه پلاس 6 گیگابایت رم داشت و نمیدونم چرا سامسونگ خواست مثل اپل بین نسخه معمولی و پلاس فرق بزاره   همش تقصیر اپل هست اینارو باب میکنه  D   چون تقریبا 14 15 تا اپ که باز باشه دیگه قبلی هارو میبنده و شروع به ریلود کردن برنامه ها میکنه اگر بازی سنگین اجرا بشه که وضعیت بدتر میشه و با 5 6 تا اپ باز به مشکل بر میخوره و همرو موقع اجرای دوباره ریلود میکنه  در نهایت از خریدم راضی هستم ولی اگر رم 6 گیگابایتی و دوربین دوم نسخه پلاس رو داشت واقعا عالی میشد  چون اصلا نمیتونستم با نسخه پلاس از نظر اندازه کنار بیام و اگر روی قابلیت AR ایموجی بیشتر کار بشه و مثل آیفون X دوربین اسکن سه بعدی اضافه بشه قطعا قابلیت جالبی میشه \n"
          ],
          "name": "stdout"
        },
        {
          "output_type": "execute_result",
          "data": {
            "text/plain": [
              "0        31\n",
              "1         7\n",
              "2        14\n",
              "3        33\n",
              "4        56\n",
              "       ... \n",
              "3256     23\n",
              "3257     10\n",
              "3258     30\n",
              "3259    102\n",
              "3260     30\n",
              "Length: 3261, dtype: int64"
            ]
          },
          "metadata": {
            "tags": []
          },
          "execution_count": 3
        }
      ]
    },
    {
      "cell_type": "code",
      "metadata": {
        "id": "JCclQn0EmOS2",
        "colab_type": "code",
        "colab": {
          "base_uri": "https://localhost:8080/",
          "height": 34
        },
        "outputId": "a8463f4a-856a-4cc7-ce73-8b83d552109e"
      },
      "source": [
        "'از' not in ['از', 'به', 'با', 'در', 'و', 'که']"
      ],
      "execution_count": 4,
      "outputs": [
        {
          "output_type": "execute_result",
          "data": {
            "text/plain": [
              "False"
            ]
          },
          "metadata": {
            "tags": []
          },
          "execution_count": 4
        }
      ]
    },
    {
      "cell_type": "code",
      "metadata": {
        "id": "jdIbAhS4fzLI",
        "colab_type": "code",
        "colab": {
          "base_uri": "https://localhost:8080/",
          "height": 424
        },
        "outputId": "c147e192-79dd-4f04-81c0-f0b8e134d54e"
      },
      "source": [
        "df = df[['Text', 'Score']]\n",
        "df = df[(df.Score > 70) | (df.Score < 60)]\n",
        "df\n",
        "def labelScore(x):\n",
        "    if x.Score > 70:\n",
        "        x.Score = 0\n",
        "    elif x.Score < 60:\n",
        "        x.Score = 1\n",
        "    return x\n",
        "\n",
        "df = df.apply(labelScore, axis=1)\n",
        "df['Text'] = df['Text'].apply(lambda x: ' '.join([word for word in x.split() if word not in ['از', 'به', 'با', 'در', 'و', 'که']]))\n",
        "df"
      ],
      "execution_count": 5,
      "outputs": [
        {
          "output_type": "execute_result",
          "data": {
            "text/html": [
              "<div>\n",
              "<style scoped>\n",
              "    .dataframe tbody tr th:only-of-type {\n",
              "        vertical-align: middle;\n",
              "    }\n",
              "\n",
              "    .dataframe tbody tr th {\n",
              "        vertical-align: top;\n",
              "    }\n",
              "\n",
              "    .dataframe thead th {\n",
              "        text-align: right;\n",
              "    }\n",
              "</style>\n",
              "<table border=\"1\" class=\"dataframe\">\n",
              "  <thead>\n",
              "    <tr style=\"text-align: right;\">\n",
              "      <th></th>\n",
              "      <th>Text</th>\n",
              "      <th>Score</th>\n",
              "    </tr>\n",
              "  </thead>\n",
              "  <tbody>\n",
              "    <tr>\n",
              "      <th>0</th>\n",
              "      <td>این اولین تجربه من برای خرید ایفون هست امروز ب...</td>\n",
              "      <td>0</td>\n",
              "    </tr>\n",
              "    <tr>\n",
              "      <th>1</th>\n",
              "      <td>خرید این محصول رو توصیه میکنم</td>\n",
              "      <td>0</td>\n",
              "    </tr>\n",
              "    <tr>\n",
              "      <th>3</th>\n",
              "      <td>سلام خدمت دوستان این گوشی همه نظر عالی کیفیت س...</td>\n",
              "      <td>0</td>\n",
              "    </tr>\n",
              "    <tr>\n",
              "      <th>4</th>\n",
              "      <td>سلام دوستانی نگران شکستن صفحه نمایش هستند این ...</td>\n",
              "      <td>0</td>\n",
              "    </tr>\n",
              "    <tr>\n",
              "      <th>6</th>\n",
              "      <td>اول همه خوشحالم بالاخره نسخه های 128 گیگابایتی...</td>\n",
              "      <td>0</td>\n",
              "    </tr>\n",
              "    <tr>\n",
              "      <th>...</th>\n",
              "      <td>...</td>\n",
              "      <td>...</td>\n",
              "    </tr>\n",
              "    <tr>\n",
              "      <th>3256</th>\n",
              "      <td>کیفت ساختش خوبه تنوعش هم خوبه فقط مشکلش اینه پ...</td>\n",
              "      <td>0</td>\n",
              "    </tr>\n",
              "    <tr>\n",
              "      <th>3257</th>\n",
              "      <td>خیلی خوب درد بخوره اندازشم عالیه</td>\n",
              "      <td>0</td>\n",
              "    </tr>\n",
              "    <tr>\n",
              "      <th>3258</th>\n",
              "      <td>عالیه خیلی دوسش دارم قیمتش یه کم زیاده ولی نظر...</td>\n",
              "      <td>0</td>\n",
              "    </tr>\n",
              "    <tr>\n",
              "      <th>3259</th>\n",
              "      <td>من این مینی فرز رو دیحیکالا سفارش دادم دستم رس...</td>\n",
              "      <td>0</td>\n",
              "    </tr>\n",
              "    <tr>\n",
              "      <th>3260</th>\n",
              "      <td>بعد چند دقیقه باهاش کار کنی سریع داغ میشه حتی ...</td>\n",
              "      <td>1</td>\n",
              "    </tr>\n",
              "  </tbody>\n",
              "</table>\n",
              "<p>2514 rows × 2 columns</p>\n",
              "</div>"
            ],
            "text/plain": [
              "                                                   Text  Score\n",
              "0     این اولین تجربه من برای خرید ایفون هست امروز ب...      0\n",
              "1                         خرید این محصول رو توصیه میکنم      0\n",
              "3     سلام خدمت دوستان این گوشی همه نظر عالی کیفیت س...      0\n",
              "4     سلام دوستانی نگران شکستن صفحه نمایش هستند این ...      0\n",
              "6     اول همه خوشحالم بالاخره نسخه های 128 گیگابایتی...      0\n",
              "...                                                 ...    ...\n",
              "3256  کیفت ساختش خوبه تنوعش هم خوبه فقط مشکلش اینه پ...      0\n",
              "3257                   خیلی خوب درد بخوره اندازشم عالیه      0\n",
              "3258  عالیه خیلی دوسش دارم قیمتش یه کم زیاده ولی نظر...      0\n",
              "3259  من این مینی فرز رو دیحیکالا سفارش دادم دستم رس...      0\n",
              "3260  بعد چند دقیقه باهاش کار کنی سریع داغ میشه حتی ...      1\n",
              "\n",
              "[2514 rows x 2 columns]"
            ]
          },
          "metadata": {
            "tags": []
          },
          "execution_count": 5
        }
      ]
    },
    {
      "cell_type": "code",
      "metadata": {
        "id": "N5He254Fnx_e",
        "colab_type": "code",
        "colab": {
          "base_uri": "https://localhost:8080/",
          "height": 382
        },
        "outputId": "90665b00-ec01-4079-bfc6-a56343ec3b8a"
      },
      "source": [
        "from tensorflow.keras.preprocessing.text import Tokenizer\n",
        "from tensorflow.keras.preprocessing.sequence import pad_sequences\n",
        "\n",
        "texts = df.Text.values\n",
        "tokenizer = Tokenizer(num_words=5000)\n",
        "tokenizer.fit_on_texts(texts)\n",
        "\n",
        "vocab_size = len(tokenizer.word_index) + 1\n",
        "print(vocab_size)\n",
        "\n",
        "encoded_docs = tokenizer.texts_to_sequences(texts)\n",
        "\n",
        "padded_sequence = pad_sequences(encoded_docs, maxlen=300, padding='post')\n",
        "\n",
        "dict(list(tokenizer.word_index.items())[:20])"
      ],
      "execution_count": 6,
      "outputs": [
        {
          "output_type": "stream",
          "text": [
            "10765\n"
          ],
          "name": "stdout"
        },
        {
          "output_type": "execute_result",
          "data": {
            "text/plain": [
              "{'استفاده': 12,\n",
              " 'این': 1,\n",
              " 'برای': 6,\n",
              " 'بود': 17,\n",
              " 'تو': 18,\n",
              " 'خریدم': 19,\n",
              " 'خیلی': 5,\n",
              " 'داره': 7,\n",
              " 'رو': 2,\n",
              " 'من': 4,\n",
              " 'می': 13,\n",
              " 'میشه': 15,\n",
              " 'های': 11,\n",
              " 'هست': 10,\n",
              " 'هم': 3,\n",
              " 'ولی': 9,\n",
              " 'کردم': 20,\n",
              " 'کیفیت': 8,\n",
              " 'یه': 14,\n",
              " 'یک': 16}"
            ]
          },
          "metadata": {
            "tags": []
          },
          "execution_count": 6
        }
      ]
    },
    {
      "cell_type": "code",
      "metadata": {
        "id": "5StSPeOQtpkx",
        "colab_type": "code",
        "colab": {
          "base_uri": "https://localhost:8080/",
          "height": 434
        },
        "outputId": "c4a6cc9d-4aea-45bc-9f9d-608463f8babd"
      },
      "source": [
        "print(texts[0])\n",
        "print(encoded_docs[0])\n",
        "print(padded_sequence[0])"
      ],
      "execution_count": 7,
      "outputs": [
        {
          "output_type": "stream",
          "text": [
            "این اولین تجربه من برای خرید ایفون هست امروز ب دستم رسیده اسم طلایی هست ولی دراصل رزگلده خیلی هم خوش رنگ هست\n",
            "[1, 365, 437, 4, 6, 43, 3093, 10, 321, 335, 162, 732, 1113, 3094, 10, 9, 5, 3, 348, 114, 10]\n",
            "[   1  365  437    4    6   43 3093   10  321  335  162  732 1113 3094\n",
            "   10    9    5    3  348  114   10    0    0    0    0    0    0    0\n",
            "    0    0    0    0    0    0    0    0    0    0    0    0    0    0\n",
            "    0    0    0    0    0    0    0    0    0    0    0    0    0    0\n",
            "    0    0    0    0    0    0    0    0    0    0    0    0    0    0\n",
            "    0    0    0    0    0    0    0    0    0    0    0    0    0    0\n",
            "    0    0    0    0    0    0    0    0    0    0    0    0    0    0\n",
            "    0    0    0    0    0    0    0    0    0    0    0    0    0    0\n",
            "    0    0    0    0    0    0    0    0    0    0    0    0    0    0\n",
            "    0    0    0    0    0    0    0    0    0    0    0    0    0    0\n",
            "    0    0    0    0    0    0    0    0    0    0    0    0    0    0\n",
            "    0    0    0    0    0    0    0    0    0    0    0    0    0    0\n",
            "    0    0    0    0    0    0    0    0    0    0    0    0    0    0\n",
            "    0    0    0    0    0    0    0    0    0    0    0    0    0    0\n",
            "    0    0    0    0    0    0    0    0    0    0    0    0    0    0\n",
            "    0    0    0    0    0    0    0    0    0    0    0    0    0    0\n",
            "    0    0    0    0    0    0    0    0    0    0    0    0    0    0\n",
            "    0    0    0    0    0    0    0    0    0    0    0    0    0    0\n",
            "    0    0    0    0    0    0    0    0    0    0    0    0    0    0\n",
            "    0    0    0    0    0    0    0    0    0    0    0    0    0    0\n",
            "    0    0    0    0    0    0    0    0    0    0    0    0    0    0\n",
            "    0    0    0    0    0    0]\n"
          ],
          "name": "stdout"
        }
      ]
    },
    {
      "cell_type": "code",
      "metadata": {
        "id": "9SykpHQKw-ki",
        "colab_type": "code",
        "colab": {
          "base_uri": "https://localhost:8080/",
          "height": 52
        },
        "outputId": "1c199a7b-7ce7-4737-f55f-0ff04c000f88"
      },
      "source": [
        "print(padded_sequence.shape)\n",
        "print(df.Score.values)"
      ],
      "execution_count": 8,
      "outputs": [
        {
          "output_type": "stream",
          "text": [
            "(2514, 300)\n",
            "[0 0 0 ... 0 0 1]\n"
          ],
          "name": "stdout"
        }
      ]
    },
    {
      "cell_type": "code",
      "metadata": {
        "id": "ejezsi62C2Wt",
        "colab_type": "code",
        "colab": {}
      },
      "source": [
        "from sklearn.model_selection import train_test_split\n",
        "\n",
        "X_train, X_test, y_train, y_test = train_test_split(padded_sequence, df.Score.values, test_size=0.3, shuffle=True)"
      ],
      "execution_count": 9,
      "outputs": []
    },
    {
      "cell_type": "code",
      "metadata": {
        "id": "sJyvt9z7uE08",
        "colab_type": "code",
        "colab": {
          "base_uri": "https://localhost:8080/",
          "height": 347
        },
        "outputId": "6e981871-5074-43e2-a76d-f9790fb1cf58"
      },
      "source": [
        "from tensorflow.keras.models import Sequential\n",
        "from tensorflow.keras.layers import LSTM, Dense, Dropout\n",
        "from tensorflow.keras.layers import SpatialDropout1D\n",
        "from tensorflow.keras.layers import Embedding\n",
        "\n",
        "embedding_vector_length = 32\n",
        "\n",
        "model = Sequential()\n",
        "\n",
        "model.add(Embedding(vocab_size, embedding_vector_length, input_length=300))\n",
        "model.add(SpatialDropout1D(0.25))\n",
        "model.add(LSTM(50, dropout=0.5, recurrent_dropout=0.5))\n",
        "model.add(Dropout(0.2))\n",
        "model.add(Dense(1, activation='sigmoid'))\n",
        "model.compile(loss='binary_crossentropy',optimizer='adam', metrics=['accuracy'])\n",
        "print(model.summary())"
      ],
      "execution_count": 10,
      "outputs": [
        {
          "output_type": "stream",
          "text": [
            "Model: \"sequential\"\n",
            "_________________________________________________________________\n",
            "Layer (type)                 Output Shape              Param #   \n",
            "=================================================================\n",
            "embedding (Embedding)        (None, 300, 32)           344480    \n",
            "_________________________________________________________________\n",
            "spatial_dropout1d (SpatialDr (None, 300, 32)           0         \n",
            "_________________________________________________________________\n",
            "lstm (LSTM)                  (None, 50)                16600     \n",
            "_________________________________________________________________\n",
            "dropout (Dropout)            (None, 50)                0         \n",
            "_________________________________________________________________\n",
            "dense (Dense)                (None, 1)                 51        \n",
            "=================================================================\n",
            "Total params: 361,131\n",
            "Trainable params: 361,131\n",
            "Non-trainable params: 0\n",
            "_________________________________________________________________\n",
            "None\n"
          ],
          "name": "stdout"
        }
      ]
    },
    {
      "cell_type": "code",
      "metadata": {
        "id": "MVcNX6oIykih",
        "colab_type": "code",
        "colab": {
          "base_uri": "https://localhost:8080/",
          "height": 191
        },
        "outputId": "843b84c0-b5d0-4eba-83c3-9ba7125aafea"
      },
      "source": [
        "history = model.fit(X_train, y_train, batch_size=32, epochs=5, validation_split=0.2)"
      ],
      "execution_count": 11,
      "outputs": [
        {
          "output_type": "stream",
          "text": [
            "Epoch 1/5\n",
            "44/44 [==============================] - 15s 343ms/step - loss: 0.5771 - accuracy: 0.7889 - val_loss: 0.5167 - val_accuracy: 0.7955\n",
            "Epoch 2/5\n",
            "44/44 [==============================] - 15s 338ms/step - loss: 0.5205 - accuracy: 0.7918 - val_loss: 0.5113 - val_accuracy: 0.7955\n",
            "Epoch 3/5\n",
            "44/44 [==============================] - 15s 338ms/step - loss: 0.5182 - accuracy: 0.7918 - val_loss: 0.5078 - val_accuracy: 0.7955\n",
            "Epoch 4/5\n",
            "44/44 [==============================] - 14s 329ms/step - loss: 0.5174 - accuracy: 0.7918 - val_loss: 0.5066 - val_accuracy: 0.7955\n",
            "Epoch 5/5\n",
            "44/44 [==============================] - 15s 332ms/step - loss: 0.5132 - accuracy: 0.7918 - val_loss: 0.5063 - val_accuracy: 0.7955\n"
          ],
          "name": "stdout"
        }
      ]
    },
    {
      "cell_type": "code",
      "metadata": {
        "id": "DtFGAde4Ejsf",
        "colab_type": "code",
        "colab": {
          "base_uri": "https://localhost:8080/",
          "height": 52
        },
        "outputId": "0e3ffb9e-a4c0-4a86-82a9-64683503a722"
      },
      "source": [
        "model.evaluate(X_test, y_test)"
      ],
      "execution_count": 12,
      "outputs": [
        {
          "output_type": "stream",
          "text": [
            "24/24 [==============================] - 1s 34ms/step - loss: 0.4714 - accuracy: 0.8225\n"
          ],
          "name": "stdout"
        },
        {
          "output_type": "execute_result",
          "data": {
            "text/plain": [
              "[0.4714178442955017, 0.8225165605545044]"
            ]
          },
          "metadata": {
            "tags": []
          },
          "execution_count": 12
        }
      ]
    }
  ]
}