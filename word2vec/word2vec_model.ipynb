{
  "nbformat": 4,
  "nbformat_minor": 0,
  "metadata": {
    "colab": {
      "name": "word2vec model.ipynb",
      "provenance": [],
      "collapsed_sections": []
    },
    "kernelspec": {
      "name": "python3",
      "display_name": "Python 3"
    }
  },
  "cells": [
    {
      "cell_type": "code",
      "metadata": {
        "id": "7VFe_m-yd3eK",
        "colab_type": "code",
        "colab": {
          "base_uri": "https://localhost:8080/",
          "height": 104
        },
        "outputId": "ccb1d3e4-da1b-486e-da67-aa276bb61046"
      },
      "source": [
        "!git clone https://github.com/facebookresearch/fastText.git"
      ],
      "execution_count": null,
      "outputs": [
        {
          "output_type": "stream",
          "text": [
            "Cloning into 'fastText'...\n",
            "remote: Enumerating objects: 3854, done.\u001b[K\n",
            "remote: Total 3854 (delta 0), reused 0 (delta 0), pack-reused 3854\u001b[K\n",
            "Receiving objects: 100% (3854/3854), 8.23 MiB | 33.69 MiB/s, done.\n",
            "Resolving deltas: 100% (2418/2418), done.\n"
          ],
          "name": "stdout"
        }
      ]
    },
    {
      "cell_type": "code",
      "metadata": {
        "id": "CYL2dPYdeAmd",
        "colab_type": "code",
        "colab": {
          "base_uri": "https://localhost:8080/",
          "height": 34
        },
        "outputId": "ab5bbc56-ac65-4087-ecce-e636eff04813"
      },
      "source": [
        "!ls"
      ],
      "execution_count": null,
      "outputs": [
        {
          "output_type": "stream",
          "text": [
            "fastText  sample_data\n"
          ],
          "name": "stdout"
        }
      ]
    },
    {
      "cell_type": "code",
      "metadata": {
        "id": "sjgpUuaTeCpA",
        "colab_type": "code",
        "colab": {
          "base_uri": "https://localhost:8080/",
          "height": 208
        },
        "outputId": "abd73838-12c1-4ca2-8ef4-3b49d7e4f15e"
      },
      "source": [
        "!sudo pip install fastText/."
      ],
      "execution_count": null,
      "outputs": [
        {
          "output_type": "stream",
          "text": [
            "Processing ./fastText\n",
            "Requirement already satisfied: pybind11>=2.2 in /usr/local/lib/python3.6/dist-packages (from fasttext==0.9.2) (2.5.0)\n",
            "Requirement already satisfied: setuptools>=0.7.0 in /usr/local/lib/python3.6/dist-packages (from fasttext==0.9.2) (49.2.0)\n",
            "Requirement already satisfied: numpy in /usr/local/lib/python3.6/dist-packages (from fasttext==0.9.2) (1.18.5)\n",
            "Building wheels for collected packages: fasttext\n",
            "  Building wheel for fasttext (setup.py) ... \u001b[?25l\u001b[?25hdone\n",
            "  Created wheel for fasttext: filename=fasttext-0.9.2-cp36-cp36m-linux_x86_64.whl size=3015201 sha256=460eb681dbd28bb5fc27e6d460c4fd81f7521857117ac8daacb8dbbcfc4c5e8e\n",
            "  Stored in directory: /tmp/pip-ephem-wheel-cache-eo9lc78m/wheels/a1/9f/52/696ce6c5c46325e840c76614ee5051458c0df10306987e7443\n",
            "Successfully built fasttext\n",
            "Installing collected packages: fasttext\n",
            "Successfully installed fasttext-0.9.2\n"
          ],
          "name": "stdout"
        }
      ]
    },
    {
      "cell_type": "code",
      "metadata": {
        "id": "e9K08LLce04T",
        "colab_type": "code",
        "colab": {
          "base_uri": "https://localhost:8080/",
          "height": 34
        },
        "outputId": "f07a08b9-d0e0-4b8a-c6d0-01586cd7e8fc"
      },
      "source": [
        "!ls"
      ],
      "execution_count": null,
      "outputs": [
        {
          "output_type": "stream",
          "text": [
            "fastText  sample_data\n"
          ],
          "name": "stdout"
        }
      ]
    },
    {
      "cell_type": "code",
      "metadata": {
        "id": "4QDlLOb9e39X",
        "colab_type": "code",
        "colab": {}
      },
      "source": [
        "!cd fastText"
      ],
      "execution_count": null,
      "outputs": []
    },
    {
      "cell_type": "code",
      "metadata": {
        "id": "HHvH3BVle6ob",
        "colab_type": "code",
        "colab": {
          "base_uri": "https://localhost:8080/",
          "height": 34
        },
        "outputId": "bd7e3d01-dd13-4c25-8896-31a37f1bb285"
      },
      "source": [
        "!ls"
      ],
      "execution_count": null,
      "outputs": [
        {
          "output_type": "stream",
          "text": [
            "fastText  sample_data\n"
          ],
          "name": "stdout"
        }
      ]
    },
    {
      "cell_type": "code",
      "metadata": {
        "id": "5v-PmTOse77g",
        "colab_type": "code",
        "colab": {}
      },
      "source": [
        "import fasttext.util"
      ],
      "execution_count": null,
      "outputs": []
    },
    {
      "cell_type": "code",
      "metadata": {
        "id": "RvoE60u6fC3b",
        "colab_type": "code",
        "colab": {
          "base_uri": "https://localhost:8080/",
          "height": 70
        },
        "outputId": "85f56fc0-c55f-439a-9bd6-c908dbd8cc99"
      },
      "source": [
        "fasttext.util.download_model('fa', if_exists='ignore')"
      ],
      "execution_count": null,
      "outputs": [
        {
          "output_type": "stream",
          "text": [
            "Downloading https://dl.fbaipublicfiles.com/fasttext/vectors-crawl/cc.fa.300.bin.gz\n",
            "\n"
          ],
          "name": "stdout"
        },
        {
          "output_type": "execute_result",
          "data": {
            "application/vnd.google.colaboratory.intrinsic+json": {
              "type": "string"
            },
            "text/plain": [
              "'cc.fa.300.bin'"
            ]
          },
          "metadata": {
            "tags": []
          },
          "execution_count": 5
        }
      ]
    },
    {
      "cell_type": "code",
      "metadata": {
        "id": "n02NLLqBfRNb",
        "colab_type": "code",
        "colab": {}
      },
      "source": [
        "ft = fasttext.load_model('cc.fa.300.bin')"
      ],
      "execution_count": null,
      "outputs": []
    },
    {
      "cell_type": "code",
      "metadata": {
        "id": "Y-YW6tiAiks0",
        "colab_type": "code",
        "colab": {
          "base_uri": "https://localhost:8080/",
          "height": 191
        },
        "outputId": "96887f29-9d5e-4d15-a84f-d32c4d8baf5a"
      },
      "source": [
        "ft.get_nearest_neighbors('سلام')"
      ],
      "execution_count": null,
      "outputs": [
        {
          "output_type": "execute_result",
          "data": {
            "text/plain": [
              "[(0.7062562704086304, 'سلامو'),\n",
              " (0.7010449767112732, 'باسلام'),\n",
              " (0.6782733201980591, 'درود'),\n",
              " (0.6445516347885132, 'سلام.ضمن'),\n",
              " (0.6404579281806946, 'عزیز.بنده'),\n",
              " (0.6391009092330933, 'عزیزسلام'),\n",
              " (0.6373170018196106, 'سلاممم'),\n",
              " (0.6371632814407349, 'سلام.اقا'),\n",
              " (0.637017011642456, 'عزیز.با'),\n",
              " (0.6366755962371826, 'شمامن')]"
            ]
          },
          "metadata": {
            "tags": []
          },
          "execution_count": 6
        }
      ]
    },
    {
      "cell_type": "code",
      "metadata": {
        "id": "1E0lKqxojOrR",
        "colab_type": "code",
        "colab": {
          "base_uri": "https://localhost:8080/",
          "height": 187
        },
        "outputId": "933273dd-29ae-4f3f-d167-d25f544bb3a2"
      },
      "source": [
        "ft.get_nearest_neighbors('طلا')"
      ],
      "execution_count": null,
      "outputs": [
        {
          "output_type": "execute_result",
          "data": {
            "text/plain": [
              "[(0.694230854511261, 'طلای'),\n",
              " (0.6849290728569031, 'طلاو'),\n",
              " (0.6164087057113647, 'طلابه'),\n",
              " (0.6109494566917419, 'نقره'),\n",
              " (0.5962421298027039, 'جواهر'),\n",
              " (0.5737359523773193, 'سکه'),\n",
              " (0.5678431987762451, 'طلاوجواهر'),\n",
              " (0.5546823143959045, 'وجواهر'),\n",
              " (0.5541793704032898, 'طلادر'),\n",
              " (0.5481424331665039, 'طلاسکه')]"
            ]
          },
          "metadata": {
            "tags": []
          },
          "execution_count": 20
        }
      ]
    },
    {
      "cell_type": "code",
      "metadata": {
        "id": "ejzW1gCijawV",
        "colab_type": "code",
        "colab": {
          "base_uri": "https://localhost:8080/",
          "height": 187
        },
        "outputId": "60c03ecf-1d08-4b69-c3e3-78a93b737e5d"
      },
      "source": [
        "ft.get_nearest_neighbors('ماشین')"
      ],
      "execution_count": null,
      "outputs": [
        {
          "output_type": "execute_result",
          "data": {
            "text/plain": [
              "[(0.6747990250587463, 'ازماشین'),\n",
              " (0.6507582068443298, 'ماشینهای'),\n",
              " (0.6458106637001038, 'وماشین'),\n",
              " (0.6424431800842285, 'ماشین\\u200cهای'),\n",
              " (0.6340875625610352, 'ماشینماشین'),\n",
              " (0.629118025302887, 'تولیدماشین'),\n",
              " (0.6223403215408325, 'اتومبیل'),\n",
              " (0.6012367606163025, 'خریدماشین'),\n",
              " (0.5977076292037964, 'است.ماشین'),\n",
              " (0.5947739481925964, 'ماشین\\xad')]"
            ]
          },
          "metadata": {
            "tags": []
          },
          "execution_count": 15
        }
      ]
    },
    {
      "cell_type": "code",
      "metadata": {
        "id": "EWJlgC8Zjg6e",
        "colab_type": "code",
        "colab": {
          "base_uri": "https://localhost:8080/",
          "height": 34
        },
        "outputId": "210a7fe1-5ddd-4da7-c02e-bc9820197654"
      },
      "source": [
        "import numpy as np\n",
        "\n",
        "np.dot(ft.get_word_vector('طلا'), ft.get_word_vector('نقره'))"
      ],
      "execution_count": null,
      "outputs": [
        {
          "output_type": "execute_result",
          "data": {
            "text/plain": [
              "1.2921867"
            ]
          },
          "metadata": {
            "tags": []
          },
          "execution_count": 7
        }
      ]
    },
    {
      "cell_type": "code",
      "metadata": {
        "id": "hE3jolg2kq3M",
        "colab_type": "code",
        "colab": {
          "base_uri": "https://localhost:8080/",
          "height": 34
        },
        "outputId": "7a867e77-a7cd-49e7-b1d9-d3b1bbd60ed8"
      },
      "source": [
        "np.dot(ft.get_word_vector('طلا'), ft.get_word_vector('چیپس'))"
      ],
      "execution_count": null,
      "outputs": [
        {
          "output_type": "execute_result",
          "data": {
            "text/plain": [
              "0.48538145"
            ]
          },
          "metadata": {
            "tags": []
          },
          "execution_count": 29
        }
      ]
    },
    {
      "cell_type": "code",
      "metadata": {
        "id": "8iOsGBfZkuR6",
        "colab_type": "code",
        "colab": {
          "base_uri": "https://localhost:8080/",
          "height": 34
        },
        "outputId": "d32732f7-f8d0-4d3e-cb7e-a0e7fcd566b9"
      },
      "source": [
        "np.dot(ft.get_word_vector('طلا'), ft.get_word_vector('طلایی'))"
      ],
      "execution_count": null,
      "outputs": [
        {
          "output_type": "execute_result",
          "data": {
            "text/plain": [
              "0.5125714"
            ]
          },
          "metadata": {
            "tags": []
          },
          "execution_count": 19
        }
      ]
    },
    {
      "cell_type": "code",
      "metadata": {
        "id": "Z9smB_CmkxcG",
        "colab_type": "code",
        "colab": {
          "base_uri": "https://localhost:8080/",
          "height": 34
        },
        "outputId": "214d1f31-f3a7-482d-b721-89b78c6be00a"
      },
      "source": [
        "np.dot(ft.get_word_vector('رنگ'), ft.get_word_vector('طلایی'))"
      ],
      "execution_count": null,
      "outputs": [
        {
          "output_type": "execute_result",
          "data": {
            "text/plain": [
              "0.47277766"
            ]
          },
          "metadata": {
            "tags": []
          },
          "execution_count": 21
        }
      ]
    },
    {
      "cell_type": "code",
      "metadata": {
        "id": "ApIdWbtUlK29",
        "colab_type": "code",
        "colab": {
          "base_uri": "https://localhost:8080/",
          "height": 34
        },
        "outputId": "bf1d373f-1f9b-436d-aed8-902576907677"
      },
      "source": [
        "np.dot(ft.get_word_vector('رنگ'), ft.get_word_vector('طلا'))"
      ],
      "execution_count": null,
      "outputs": [
        {
          "output_type": "execute_result",
          "data": {
            "text/plain": [
              "0.69546974"
            ]
          },
          "metadata": {
            "tags": []
          },
          "execution_count": 22
        }
      ]
    },
    {
      "cell_type": "code",
      "metadata": {
        "id": "K0EiBP3rlQLf",
        "colab_type": "code",
        "colab": {}
      },
      "source": [
        "import numpy as np\n",
        "import pandas as pd"
      ],
      "execution_count": null,
      "outputs": []
    },
    {
      "cell_type": "code",
      "metadata": {
        "id": "l65KatfBmZSt",
        "colab_type": "code",
        "colab": {
          "base_uri": "https://localhost:8080/",
          "height": 124
        },
        "outputId": "49d45709-cc21-420d-90b2-59e6b028101c"
      },
      "source": [
        "from google.colab import drive\n",
        "drive.mount('/content/drive')"
      ],
      "execution_count": null,
      "outputs": [
        {
          "output_type": "stream",
          "text": [
            "Go to this URL in a browser: https://accounts.google.com/o/oauth2/auth?client_id=947318989803-6bn6qk8qdgf4n4g3pfee6491hc0brc4i.apps.googleusercontent.com&redirect_uri=urn%3aietf%3awg%3aoauth%3a2.0%3aoob&scope=email%20https%3a%2f%2fwww.googleapis.com%2fauth%2fdocs.test%20https%3a%2f%2fwww.googleapis.com%2fauth%2fdrive%20https%3a%2f%2fwww.googleapis.com%2fauth%2fdrive.photos.readonly%20https%3a%2f%2fwww.googleapis.com%2fauth%2fpeopleapi.readonly&response_type=code\n",
            "\n",
            "Enter your authorization code:\n",
            "··········\n",
            "Mounted at /content/drive\n"
          ],
          "name": "stdout"
        }
      ]
    },
    {
      "cell_type": "code",
      "metadata": {
        "id": "LmF8Vul-mUSY",
        "colab_type": "code",
        "colab": {
          "base_uri": "https://localhost:8080/",
          "height": 441
        },
        "outputId": "89629c36-c0b9-44f4-ebe1-19175c164c6c"
      },
      "source": [
        "df = pd.read_csv('data.csv')\n",
        "print(df['Suggestion'].unique())\n",
        "df"
      ],
      "execution_count": null,
      "outputs": [
        {
          "output_type": "stream",
          "text": [
            "[1 3 2]\n"
          ],
          "name": "stdout"
        },
        {
          "output_type": "execute_result",
          "data": {
            "text/html": [
              "<div>\n",
              "<style scoped>\n",
              "    .dataframe tbody tr th:only-of-type {\n",
              "        vertical-align: middle;\n",
              "    }\n",
              "\n",
              "    .dataframe tbody tr th {\n",
              "        vertical-align: top;\n",
              "    }\n",
              "\n",
              "    .dataframe thead th {\n",
              "        text-align: right;\n",
              "    }\n",
              "</style>\n",
              "<table border=\"1\" class=\"dataframe\">\n",
              "  <thead>\n",
              "    <tr style=\"text-align: right;\">\n",
              "      <th></th>\n",
              "      <th>Text</th>\n",
              "      <th>Score</th>\n",
              "      <th>Suggestion</th>\n",
              "    </tr>\n",
              "  </thead>\n",
              "  <tbody>\n",
              "    <tr>\n",
              "      <th>0</th>\n",
              "      <td>این اولین تجربه من برای خرید ایفون هست   امروز...</td>\n",
              "      <td>100</td>\n",
              "      <td>1</td>\n",
              "    </tr>\n",
              "    <tr>\n",
              "      <th>1</th>\n",
              "      <td>خرید این محصول رو توصیه میکنم</td>\n",
              "      <td>84</td>\n",
              "      <td>1</td>\n",
              "    </tr>\n",
              "    <tr>\n",
              "      <th>2</th>\n",
              "      <td>1 ساله این گوشی رو دارم   هیچ نقطه ضعفی ازش ند...</td>\n",
              "      <td>60</td>\n",
              "      <td>1</td>\n",
              "    </tr>\n",
              "    <tr>\n",
              "      <th>3</th>\n",
              "      <td>سلام خدمت دوستان این گوشی از همه نظر عالی  کیف...</td>\n",
              "      <td>96</td>\n",
              "      <td>1</td>\n",
              "    </tr>\n",
              "    <tr>\n",
              "      <th>4</th>\n",
              "      <td>سلام دوستانی که نگران شکستن صفحه نمایش هستند ا...</td>\n",
              "      <td>92</td>\n",
              "      <td>1</td>\n",
              "    </tr>\n",
              "    <tr>\n",
              "      <th>...</th>\n",
              "      <td>...</td>\n",
              "      <td>...</td>\n",
              "      <td>...</td>\n",
              "    </tr>\n",
              "    <tr>\n",
              "      <th>3256</th>\n",
              "      <td>کیفت ساختش خوبه تنوعش هم خوبه   فقط مشکلش اینه...</td>\n",
              "      <td>84</td>\n",
              "      <td>2</td>\n",
              "    </tr>\n",
              "    <tr>\n",
              "      <th>3257</th>\n",
              "      <td>خیلی خوب و به درد بخوره و اندازشم عالیه</td>\n",
              "      <td>100</td>\n",
              "      <td>1</td>\n",
              "    </tr>\n",
              "    <tr>\n",
              "      <th>3258</th>\n",
              "      <td>عالیه خیلی دوسش دارم قیمتش یه کم زیاده ولی به ...</td>\n",
              "      <td>100</td>\n",
              "      <td>1</td>\n",
              "    </tr>\n",
              "    <tr>\n",
              "      <th>3259</th>\n",
              "      <td>من این مینی فرز رو از دیحیکالا سفارش دادم و به...</td>\n",
              "      <td>84</td>\n",
              "      <td>1</td>\n",
              "    </tr>\n",
              "    <tr>\n",
              "      <th>3260</th>\n",
              "      <td>بعد از چند دقیقه که باهاش کار کنی سریع داغ میش...</td>\n",
              "      <td>48</td>\n",
              "      <td>3</td>\n",
              "    </tr>\n",
              "  </tbody>\n",
              "</table>\n",
              "<p>3261 rows × 3 columns</p>\n",
              "</div>"
            ],
            "text/plain": [
              "                                                   Text  Score  Suggestion\n",
              "0     این اولین تجربه من برای خرید ایفون هست   امروز...    100           1\n",
              "1                        خرید این محصول رو توصیه میکنم      84           1\n",
              "2     1 ساله این گوشی رو دارم   هیچ نقطه ضعفی ازش ند...     60           1\n",
              "3     سلام خدمت دوستان این گوشی از همه نظر عالی  کیف...     96           1\n",
              "4     سلام دوستانی که نگران شکستن صفحه نمایش هستند ا...     92           1\n",
              "...                                                 ...    ...         ...\n",
              "3256  کیفت ساختش خوبه تنوعش هم خوبه   فقط مشکلش اینه...     84           2\n",
              "3257           خیلی خوب و به درد بخوره و اندازشم عالیه     100           1\n",
              "3258  عالیه خیلی دوسش دارم قیمتش یه کم زیاده ولی به ...    100           1\n",
              "3259  من این مینی فرز رو از دیحیکالا سفارش دادم و به...     84           1\n",
              "3260  بعد از چند دقیقه که باهاش کار کنی سریع داغ میش...     48           3\n",
              "\n",
              "[3261 rows x 3 columns]"
            ]
          },
          "metadata": {
            "tags": []
          },
          "execution_count": 11
        }
      ]
    },
    {
      "cell_type": "code",
      "metadata": {
        "id": "c3XdXjzlmWvF",
        "colab_type": "code",
        "colab": {
          "base_uri": "https://localhost:8080/",
          "height": 34
        },
        "outputId": "9ef39f3d-0047-47f0-8f96-c54072ff18aa"
      },
      "source": [
        "texts = df['Text'].values\n",
        "words = list()\n",
        "for sen in texts:\n",
        "    words.append(sen.split(' '))\n",
        "lens = 0\n",
        "for sen in words:\n",
        "    lens += len(sen)\n",
        "print(lens/len(words))"
      ],
      "execution_count": null,
      "outputs": [
        {
          "output_type": "stream",
          "text": [
            "56.590616375344986\n"
          ],
          "name": "stdout"
        }
      ]
    },
    {
      "cell_type": "code",
      "metadata": {
        "id": "fLiY5PjBnemm",
        "colab_type": "code",
        "colab": {
          "base_uri": "https://localhost:8080/",
          "height": 263
        },
        "outputId": "ed8b4665-3959-407d-dfdf-e5d461c2f870"
      },
      "source": [
        "def calculate_lens(x):\n",
        "    text_list = x['Text'].split(' ')\n",
        "    return len(text_list)\n",
        "text_lens = df.apply(calculate_lens, axis=1)\n",
        "print(df['Text'][6])\n",
        "text_lens"
      ],
      "execution_count": null,
      "outputs": [
        {
          "output_type": "stream",
          "text": [
            "اول از همه خوشحالم که بالاخره نسخه های 128 گیگابایتی برای فروش قرار گرفت چون همیشه من با حافظه گوشی های اندرویدی مشکل داشتم  گوشی قبلی من s7 بود و بعد از 2 سال استفاده که بسیار هم راضی بودم به دلیل تغییرات مثبتی که در گوشی های سامسونگ ایجاد شد تصمیم گرفتم گوشی رو عوض کنم این گوشی واقعا زیباست و طراحی منحصر به فردی داره  زمانی که گوشی رو در دست میگیرید بسیار خودش دست هست و حس خیلی خوبی داره تنها دلیلی که نسخه پلاس رو انتخاب نکردم بزرگی بیش از حد و وزن گوشی بود ولی این نسخه از نظر اندازه فوق العادست کیفیت و بلندی صدای  اسپیکر  ها عالی هست  زمانی که با گوشی قبلی خودم تست کردم واقعا تفاوت زیادی حس میشد  همچنین با گوشی HTC U11 هم مقایسه کردم و باز هم بلندی صدای اس 9 بیشتر بود اما از نظر کیفیت شاید کمی u11 بهتر بود  نگرانی من جای سنسور اثر انگشت بود چون با اس8 که کار کرده بودم اصلا جای مناسبی نداشت ولی این مشکل با تغییر جای سنسور بنظرم کاملا حل شده و سرعت سنسور هم عالی هست و با وجود Intelligent scan که ترکیب سنسور عنبیه و تشخیص چهره هست خیلی نیازی به اثر انگشت احساس نمیشه چون حتی توی تاریکی مطلق هم به سرعت گوشی از این طریق باز میشه اما یک ایراد امنیتی که دیدم این بود که اگر چشمای من بسته باشه باز هم با روش intelligent scan گوشی سریعا باز میشه ولی توی آیفون X ظاهرا با چشمان بسته گوشی باز نمیشه و این از نظر امنیت خیلی بهتره دوربین سلفی خیلی بهتر از گوشی قبلی من هست ولی تفاوت زیادی توی دوربین اصلی با گوشی قبلی خودم ندیدم درکل دوربین اصلی کیفیت خوبی داره و به نسبت نسل های قبل توی زوم آخر نویز کمتری دیده میشه یکی از قابلیت هایی که روی دوربین اس 9 پلاس وجود داره به دلیل دو دوربین بودن گوشی میتونه عکس های بوکه بگیره ولی این گوشی هم چنین قابلیتی داره به اسم selective focus که اگر جسم در فاصله نیم متری باشه دقیقا همون افکت بوکه رو میتونه اعمال کنه و از نظر عملکرد هم خوب بود و در نهایت کیفیت صفحه هم که فوق العادست و بنظرم بهترین هست  و چند مورد هم از نقاط ضعف بگم  باتری   باتری متاسفانه زیاد رضایت بخش نیست و بنظرم به زور میتونه گوشی رو از صبح ساعت 7 8 تا 12 شب برسونه البته استفاده من زیاد هست و همیشه اینترنت هم روشن هست مخصوصا 4G ولی باز انتظار بیشتری میرفت که ظاهرا نسخه پلاس توی این مورد بهتره  مورد بعد AR ایموجی هست که واقعا از نظر عملکرد ضعیف هست و کلا فقط یکبار تستش کردم و کلا ناامید شدم  و دوستان هم تست کردن و اصلا نتیجه جالبی نداشت و همرو  تقریبا یکسان نشون میده نمیدونم چرا سامسونگ این همه روی قابلیت AR ایموجی تبلیغ کرد وقتی به بلوغ نرسیده   و ای کاش مثل نسخه پلاس 6 گیگابایت رم داشت و نمیدونم چرا سامسونگ خواست مثل اپل بین نسخه معمولی و پلاس فرق بزاره   همش تقصیر اپل هست اینارو باب میکنه  D   چون تقریبا 14 15 تا اپ که باز باشه دیگه قبلی هارو میبنده و شروع به ریلود کردن برنامه ها میکنه اگر بازی سنگین اجرا بشه که وضعیت بدتر میشه و با 5 6 تا اپ باز به مشکل بر میخوره و همرو موقع اجرای دوباره ریلود میکنه  در نهایت از خریدم راضی هستم ولی اگر رم 6 گیگابایتی و دوربین دوم نسخه پلاس رو داشت واقعا عالی میشد  چون اصلا نمیتونستم با نسخه پلاس از نظر اندازه کنار بیام و اگر روی قابلیت AR ایموجی بیشتر کار بشه و مثل آیفون X دوربین اسکن سه بعدی اضافه بشه قطعا قابلیت جالبی میشه \n"
          ],
          "name": "stdout"
        },
        {
          "output_type": "execute_result",
          "data": {
            "text/plain": [
              "0        31\n",
              "1         7\n",
              "2        14\n",
              "3        33\n",
              "4        56\n",
              "       ... \n",
              "3256     23\n",
              "3257     10\n",
              "3258     30\n",
              "3259    102\n",
              "3260     30\n",
              "Length: 3261, dtype: int64"
            ]
          },
          "metadata": {
            "tags": []
          },
          "execution_count": 13
        }
      ]
    },
    {
      "cell_type": "code",
      "metadata": {
        "id": "wDD8p0_YoDyM",
        "colab_type": "code",
        "colab": {
          "base_uri": "https://localhost:8080/",
          "height": 424
        },
        "outputId": "8c541555-1425-4385-e73d-532759dd9d16"
      },
      "source": [
        "df = df[['Text', 'Score']]\n",
        "df = df[(df.Score > 70) | (df.Score < 60)]\n",
        "df\n",
        "def labelScore(x):\n",
        "    if x.Score > 70:\n",
        "        x.Score = 0\n",
        "    elif x.Score < 60:\n",
        "        x.Score = 1\n",
        "    return x\n",
        "\n",
        "df = df.apply(labelScore, axis=1)\n",
        "df"
      ],
      "execution_count": null,
      "outputs": [
        {
          "output_type": "execute_result",
          "data": {
            "text/html": [
              "<div>\n",
              "<style scoped>\n",
              "    .dataframe tbody tr th:only-of-type {\n",
              "        vertical-align: middle;\n",
              "    }\n",
              "\n",
              "    .dataframe tbody tr th {\n",
              "        vertical-align: top;\n",
              "    }\n",
              "\n",
              "    .dataframe thead th {\n",
              "        text-align: right;\n",
              "    }\n",
              "</style>\n",
              "<table border=\"1\" class=\"dataframe\">\n",
              "  <thead>\n",
              "    <tr style=\"text-align: right;\">\n",
              "      <th></th>\n",
              "      <th>Text</th>\n",
              "      <th>Score</th>\n",
              "    </tr>\n",
              "  </thead>\n",
              "  <tbody>\n",
              "    <tr>\n",
              "      <th>0</th>\n",
              "      <td>این اولین تجربه من برای خرید ایفون هست   امروز...</td>\n",
              "      <td>0</td>\n",
              "    </tr>\n",
              "    <tr>\n",
              "      <th>1</th>\n",
              "      <td>خرید این محصول رو توصیه میکنم</td>\n",
              "      <td>0</td>\n",
              "    </tr>\n",
              "    <tr>\n",
              "      <th>3</th>\n",
              "      <td>سلام خدمت دوستان این گوشی از همه نظر عالی  کیف...</td>\n",
              "      <td>0</td>\n",
              "    </tr>\n",
              "    <tr>\n",
              "      <th>4</th>\n",
              "      <td>سلام دوستانی که نگران شکستن صفحه نمایش هستند ا...</td>\n",
              "      <td>0</td>\n",
              "    </tr>\n",
              "    <tr>\n",
              "      <th>6</th>\n",
              "      <td>اول از همه خوشحالم که بالاخره نسخه های 128 گیگ...</td>\n",
              "      <td>0</td>\n",
              "    </tr>\n",
              "    <tr>\n",
              "      <th>...</th>\n",
              "      <td>...</td>\n",
              "      <td>...</td>\n",
              "    </tr>\n",
              "    <tr>\n",
              "      <th>3256</th>\n",
              "      <td>کیفت ساختش خوبه تنوعش هم خوبه   فقط مشکلش اینه...</td>\n",
              "      <td>0</td>\n",
              "    </tr>\n",
              "    <tr>\n",
              "      <th>3257</th>\n",
              "      <td>خیلی خوب و به درد بخوره و اندازشم عالیه</td>\n",
              "      <td>0</td>\n",
              "    </tr>\n",
              "    <tr>\n",
              "      <th>3258</th>\n",
              "      <td>عالیه خیلی دوسش دارم قیمتش یه کم زیاده ولی به ...</td>\n",
              "      <td>0</td>\n",
              "    </tr>\n",
              "    <tr>\n",
              "      <th>3259</th>\n",
              "      <td>من این مینی فرز رو از دیحیکالا سفارش دادم و به...</td>\n",
              "      <td>0</td>\n",
              "    </tr>\n",
              "    <tr>\n",
              "      <th>3260</th>\n",
              "      <td>بعد از چند دقیقه که باهاش کار کنی سریع داغ میش...</td>\n",
              "      <td>1</td>\n",
              "    </tr>\n",
              "  </tbody>\n",
              "</table>\n",
              "<p>2514 rows × 2 columns</p>\n",
              "</div>"
            ],
            "text/plain": [
              "                                                   Text  Score\n",
              "0     این اولین تجربه من برای خرید ایفون هست   امروز...      0\n",
              "1                        خرید این محصول رو توصیه میکنم       0\n",
              "3     سلام خدمت دوستان این گوشی از همه نظر عالی  کیف...      0\n",
              "4     سلام دوستانی که نگران شکستن صفحه نمایش هستند ا...      0\n",
              "6     اول از همه خوشحالم که بالاخره نسخه های 128 گیگ...      0\n",
              "...                                                 ...    ...\n",
              "3256  کیفت ساختش خوبه تنوعش هم خوبه   فقط مشکلش اینه...      0\n",
              "3257           خیلی خوب و به درد بخوره و اندازشم عالیه       0\n",
              "3258  عالیه خیلی دوسش دارم قیمتش یه کم زیاده ولی به ...      0\n",
              "3259  من این مینی فرز رو از دیحیکالا سفارش دادم و به...      0\n",
              "3260  بعد از چند دقیقه که باهاش کار کنی سریع داغ میش...      1\n",
              "\n",
              "[2514 rows x 2 columns]"
            ]
          },
          "metadata": {
            "tags": []
          },
          "execution_count": 14
        }
      ]
    },
    {
      "cell_type": "code",
      "metadata": {
        "id": "gCwkczPcybcD",
        "colab_type": "code",
        "colab": {
          "base_uri": "https://localhost:8080/",
          "height": 69
        },
        "outputId": "0408f60e-116f-4df0-9e6f-9c2394c89bad"
      },
      "source": [
        "from sklearn.utils import resample\n",
        "\n",
        "df_majority = df[df['Score']==0]\n",
        "df_minority = df[df['Score']==1]\n",
        "\n",
        "df_minority_upsampled = resample(df_minority, \n",
        "                                 replace=True,     # sample with replacement\n",
        "                                 n_samples=df_majority.shape[0],    # to match majority class\n",
        "                                 random_state=123) # reproducible results\n",
        " \n",
        "# Combine majority class with upsampled minority class\n",
        "df = pd.concat([df_majority, df_minority_upsampled])\n",
        "\n",
        "print(df['Score'].value_counts())"
      ],
      "execution_count": null,
      "outputs": [
        {
          "output_type": "stream",
          "text": [
            "1    2015\n",
            "0    2015\n",
            "Name: Score, dtype: int64\n"
          ],
          "name": "stdout"
        }
      ]
    },
    {
      "cell_type": "code",
      "metadata": {
        "id": "wwsjiRyqyeBW",
        "colab_type": "code",
        "colab": {
          "base_uri": "https://localhost:8080/",
          "height": 382
        },
        "outputId": "294bc58d-bdc7-41de-e30c-5d7b0ae2b61f"
      },
      "source": [
        "from tensorflow.keras.preprocessing.text import Tokenizer\n",
        "from tensorflow.keras.preprocessing.sequence import pad_sequences\n",
        "\n",
        "texts = df.Text.values\n",
        "tokenizer = Tokenizer(num_words=3000)\n",
        "tokenizer.fit_on_texts(texts)\n",
        "\n",
        "vocab_size = len(tokenizer.word_index) + 1\n",
        "print(vocab_size)\n",
        "\n",
        "encoded_docs = tokenizer.texts_to_sequences(texts)\n",
        "\n",
        "padded_sequence = pad_sequences(encoded_docs, maxlen=70, padding='post')\n",
        "\n",
        "dict(list(tokenizer.word_index.items())[:20])"
      ],
      "execution_count": null,
      "outputs": [
        {
          "output_type": "stream",
          "text": [
            "10729\n"
          ],
          "name": "stdout"
        },
        {
          "output_type": "execute_result",
          "data": {
            "text/plain": [
              "{'از': 3,\n",
              " 'استفاده': 18,\n",
              " 'این': 5,\n",
              " 'با': 7,\n",
              " 'برای': 13,\n",
              " 'به': 4,\n",
              " 'بود': 20,\n",
              " 'خیلی': 11,\n",
              " 'داره': 15,\n",
              " 'در': 8,\n",
              " 'رو': 6,\n",
              " 'من': 10,\n",
              " 'می': 19,\n",
              " 'های': 17,\n",
              " 'هست': 16,\n",
              " 'هم': 9,\n",
              " 'و': 1,\n",
              " 'ولی': 14,\n",
              " 'که': 2,\n",
              " 'کیفیت': 12}"
            ]
          },
          "metadata": {
            "tags": []
          },
          "execution_count": 16
        }
      ]
    },
    {
      "cell_type": "code",
      "metadata": {
        "id": "037Po_fzyhXx",
        "colab_type": "code",
        "colab": {
          "base_uri": "https://localhost:8080/",
          "height": 69
        },
        "outputId": "c5b5abaf-e644-4f1a-cbf4-03ca174ed4cf"
      },
      "source": [
        "print(padded_sequence.shape)\n",
        "print(df.Score.values)\n",
        "len(df[df['Score'] == 0])"
      ],
      "execution_count": null,
      "outputs": [
        {
          "output_type": "stream",
          "text": [
            "(4030, 70)\n",
            "[0 0 0 ... 1 1 1]\n"
          ],
          "name": "stdout"
        },
        {
          "output_type": "execute_result",
          "data": {
            "text/plain": [
              "2015"
            ]
          },
          "metadata": {
            "tags": []
          },
          "execution_count": 17
        }
      ]
    },
    {
      "cell_type": "code",
      "metadata": {
        "id": "-bKTZ-EkzC7F",
        "colab_type": "code",
        "colab": {}
      },
      "source": [
        "from sklearn.model_selection import train_test_split\n",
        "\n",
        "X_train, X_test, y_train, y_test = train_test_split(padded_sequence, df.Score.values, test_size=0.3, shuffle=True)"
      ],
      "execution_count": null,
      "outputs": []
    },
    {
      "cell_type": "code",
      "metadata": {
        "id": "mnxN0b7a0nje",
        "colab_type": "code",
        "colab": {}
      },
      "source": [
        "embedding_matrix = np.zeros((vocab_size, 300))\n",
        "\n",
        "for word, i in tokenizer.word_index.items():\n",
        "  embedding_vector = ft.get_word_vector(word)\n",
        "  # words that cannot be found will be set to 0\n",
        "  if embedding_vector is not None:\n",
        "    embedding_matrix[i] = embedding_vector"
      ],
      "execution_count": null,
      "outputs": []
    },
    {
      "cell_type": "code",
      "metadata": {
        "id": "v8CLbEMP0lAQ",
        "colab_type": "code",
        "colab": {
          "base_uri": "https://localhost:8080/",
          "height": 347
        },
        "outputId": "c3df660e-45f2-4a61-88e5-5aa5099ac8c3"
      },
      "source": [
        "from tensorflow.keras.models import Sequential\n",
        "from tensorflow.keras.layers import LSTM, Dense, Dropout\n",
        "from tensorflow.keras.layers import SpatialDropout1D\n",
        "from tensorflow.keras.layers import Embedding\n",
        "from tensorflow.keras.callbacks import EarlyStopping\n",
        "\n",
        "embedding_vector_length = 300\n",
        "\n",
        "model = Sequential()\n",
        "\n",
        "model.add(Embedding(vocab_size, embedding_vector_length, input_length=70))\n",
        "model.add(SpatialDropout1D(0.25))\n",
        "model.add(LSTM(50, dropout=0.5, recurrent_dropout=0.5))\n",
        "model.add(Dropout(0.2))\n",
        "model.add(Dense(1, activation='sigmoid'))\n",
        "model.compile(loss='binary_crossentropy',optimizer='adam', metrics=['accuracy'])\n",
        "print(model.summary())"
      ],
      "execution_count": null,
      "outputs": [
        {
          "output_type": "stream",
          "text": [
            "Model: \"sequential_17\"\n",
            "_________________________________________________________________\n",
            "Layer (type)                 Output Shape              Param #   \n",
            "=================================================================\n",
            "embedding_17 (Embedding)     (None, 70, 300)           3218700   \n",
            "_________________________________________________________________\n",
            "spatial_dropout1d_5 (Spatial (None, 70, 300)           0         \n",
            "_________________________________________________________________\n",
            "lstm_17 (LSTM)               (None, 50)                70200     \n",
            "_________________________________________________________________\n",
            "dropout_5 (Dropout)          (None, 50)                0         \n",
            "_________________________________________________________________\n",
            "dense_17 (Dense)             (None, 1)                 51        \n",
            "=================================================================\n",
            "Total params: 3,288,951\n",
            "Trainable params: 3,288,951\n",
            "Non-trainable params: 0\n",
            "_________________________________________________________________\n",
            "None\n"
          ],
          "name": "stdout"
        }
      ]
    },
    {
      "cell_type": "code",
      "metadata": {
        "id": "BFrD99Fu2dvl",
        "colab_type": "code",
        "colab": {
          "base_uri": "https://localhost:8080/",
          "height": 399
        },
        "outputId": "ca907457-6db5-4396-ded8-a969c436dc5b"
      },
      "source": [
        "early_stopping = EarlyStopping(monitor='val_loss', patience=3)\n",
        "history = model.fit(X_train, y_train, batch_size=32, epochs=15, validation_split=0.2, callbacks=[early_stopping])"
      ],
      "execution_count": null,
      "outputs": [
        {
          "output_type": "stream",
          "text": [
            "Epoch 1/15\n",
            "71/71 [==============================] - 13s 182ms/step - loss: 0.6912 - accuracy: 0.5341 - val_loss: 0.6924 - val_accuracy: 0.5451\n",
            "Epoch 2/15\n",
            "71/71 [==============================] - 13s 178ms/step - loss: 0.6745 - accuracy: 0.5811 - val_loss: 0.6494 - val_accuracy: 0.6035\n",
            "Epoch 3/15\n",
            "71/71 [==============================] - 13s 178ms/step - loss: 0.5964 - accuracy: 0.6259 - val_loss: 0.5968 - val_accuracy: 0.6142\n",
            "Epoch 4/15\n",
            "71/71 [==============================] - 12s 176ms/step - loss: 0.4893 - accuracy: 0.7402 - val_loss: 0.5294 - val_accuracy: 0.7363\n",
            "Epoch 5/15\n",
            "71/71 [==============================] - 13s 177ms/step - loss: 0.3569 - accuracy: 0.8484 - val_loss: 0.4139 - val_accuracy: 0.8177\n",
            "Epoch 6/15\n",
            "71/71 [==============================] - 13s 178ms/step - loss: 0.2354 - accuracy: 0.9153 - val_loss: 0.3795 - val_accuracy: 0.8584\n",
            "Epoch 7/15\n",
            "71/71 [==============================] - 13s 187ms/step - loss: 0.1904 - accuracy: 0.9353 - val_loss: 0.3798 - val_accuracy: 0.8496\n",
            "Epoch 8/15\n",
            "71/71 [==============================] - 13s 186ms/step - loss: 0.1320 - accuracy: 0.9605 - val_loss: 0.3499 - val_accuracy: 0.8885\n",
            "Epoch 9/15\n",
            "71/71 [==============================] - 13s 186ms/step - loss: 0.1137 - accuracy: 0.9659 - val_loss: 0.5012 - val_accuracy: 0.8460\n",
            "Epoch 10/15\n",
            "71/71 [==============================] - 13s 186ms/step - loss: 0.1754 - accuracy: 0.9481 - val_loss: 0.4615 - val_accuracy: 0.8513\n",
            "Epoch 11/15\n",
            "71/71 [==============================] - 13s 186ms/step - loss: 0.1015 - accuracy: 0.9712 - val_loss: 0.3658 - val_accuracy: 0.8814\n"
          ],
          "name": "stdout"
        }
      ]
    },
    {
      "cell_type": "code",
      "metadata": {
        "id": "y8_P9PyG2kf5",
        "colab_type": "code",
        "colab": {
          "base_uri": "https://localhost:8080/",
          "height": 337
        },
        "outputId": "28e94fe4-3ef8-44c2-a171-39dab17cf6f6"
      },
      "source": [
        "import matplotlib.pyplot as plt\n",
        "plt.style.use('ggplot')\n",
        "\n",
        "def plot_history(history):\n",
        "    acc = history.history['accuracy']\n",
        "    val_acc = history.history['val_accuracy']\n",
        "    loss = history.history['loss']\n",
        "    val_loss = history.history['val_loss']\n",
        "    x = range(1, len(acc) + 1)\n",
        "\n",
        "    plt.figure(figsize=(12, 5))\n",
        "    plt.subplot(1, 2, 1)\n",
        "    plt.plot(x, acc, 'b', label='Training acc')\n",
        "    plt.plot(x, val_acc, 'r', label='Validation acc')\n",
        "    plt.title('Training and validation accuracy')\n",
        "    plt.legend()\n",
        "    plt.subplot(1, 2, 2)\n",
        "    plt.plot(x, loss, 'b', label='Training loss')\n",
        "    plt.plot(x, val_loss, 'r', label='Validation loss')\n",
        "    plt.title('Training and validation loss')\n",
        "    plt.legend()\n",
        "\n",
        "plot_history(history)"
      ],
      "execution_count": null,
      "outputs": [
        {
          "output_type": "display_data",
          "data": {
            "image/png": "[encoded data removed]",
            "text/plain": [
              "<Figure size 864x360 with 2 Axes>"
            ]
          },
          "metadata": {
            "tags": []
          }
        }
      ]
    },
    {
      "cell_type": "code",
      "metadata": {
        "id": "9kIfoxr8ZUm2",
        "colab_type": "code",
        "colab": {
          "base_uri": "https://localhost:8080/",
          "height": 52
        },
        "outputId": "0558ef98-d670-42a1-d6c3-1cc41adeabfb"
      },
      "source": [
        "model.evaluate(X_test, y_test)"
      ],
      "execution_count": null,
      "outputs": [
        {
          "output_type": "stream",
          "text": [
            "38/38 [==============================] - 1s 20ms/step - loss: 0.4062 - accuracy: 0.8850\n"
          ],
          "name": "stdout"
        },
        {
          "output_type": "execute_result",
          "data": {
            "text/plain": [
              "[0.40622204542160034, 0.8850289583206177]"
            ]
          },
          "metadata": {
            "tags": []
          },
          "execution_count": 86
        }
      ]
    },
    {
      "cell_type": "code",
      "metadata": {
        "id": "JU1_-2Fu4xQA",
        "colab_type": "code",
        "colab": {
          "base_uri": "https://localhost:8080/",
          "height": 347
        },
        "outputId": "d44f4fe2-c3b5-4920-c447-1a1096478605"
      },
      "source": [
        "from tensorflow.keras.models import Sequential\n",
        "from tensorflow.keras.layers import LSTM, Dense, Dropout\n",
        "from tensorflow.keras.layers import SpatialDropout1D\n",
        "from tensorflow.keras.layers import Embedding\n",
        "\n",
        "embedding_vector_length = 300\n",
        "\n",
        "model = Sequential()\n",
        "\n",
        "model.add(Embedding(vocab_size, embedding_vector_length, input_length=70,weights=[embedding_matrix],trainable=True))\n",
        "model.add(SpatialDropout1D(0.25))\n",
        "model.add(LSTM(50, dropout=0.5, recurrent_dropout=0.5))\n",
        "model.add(Dropout(0.2))\n",
        "model.add(Dense(1, activation='sigmoid'))\n",
        "model.compile(loss='binary_crossentropy',optimizer='adam', metrics=['accuracy'])\n",
        "print(model.summary())"
      ],
      "execution_count": null,
      "outputs": [
        {
          "output_type": "stream",
          "text": [
            "Model: \"sequential_18\"\n",
            "_________________________________________________________________\n",
            "Layer (type)                 Output Shape              Param #   \n",
            "=================================================================\n",
            "embedding_18 (Embedding)     (None, 70, 300)           3218700   \n",
            "_________________________________________________________________\n",
            "spatial_dropout1d_6 (Spatial (None, 70, 300)           0         \n",
            "_________________________________________________________________\n",
            "lstm_18 (LSTM)               (None, 50)                70200     \n",
            "_________________________________________________________________\n",
            "dropout_6 (Dropout)          (None, 50)                0         \n",
            "_________________________________________________________________\n",
            "dense_18 (Dense)             (None, 1)                 51        \n",
            "=================================================================\n",
            "Total params: 3,288,951\n",
            "Trainable params: 3,288,951\n",
            "Non-trainable params: 0\n",
            "_________________________________________________________________\n",
            "None\n"
          ],
          "name": "stdout"
        }
      ]
    },
    {
      "cell_type": "code",
      "metadata": {
        "id": "hyQ5hdiJFhVH",
        "colab_type": "code",
        "colab": {
          "base_uri": "https://localhost:8080/",
          "height": 364
        },
        "outputId": "2972c3db-874f-4045-ce5e-09e9e205789c"
      },
      "source": [
        "early_stopping = EarlyStopping(monitor='val_loss', patience=3)\n",
        "history = model.fit(X_train, y_train, batch_size=32, epochs=15, validation_split=0.2, callbacks=[early_stopping])"
      ],
      "execution_count": null,
      "outputs": [
        {
          "output_type": "stream",
          "text": [
            "Epoch 1/15\n",
            "71/71 [==============================] - 13s 179ms/step - loss: 0.6907 - accuracy: 0.5266 - val_loss: 0.6867 - val_accuracy: 0.5540\n",
            "Epoch 2/15\n",
            "71/71 [==============================] - 12s 175ms/step - loss: 0.6361 - accuracy: 0.6232 - val_loss: 0.6131 - val_accuracy: 0.6319\n",
            "Epoch 3/15\n",
            "71/71 [==============================] - 12s 174ms/step - loss: 0.5256 - accuracy: 0.7518 - val_loss: 0.5327 - val_accuracy: 0.7646\n",
            "Epoch 4/15\n",
            "71/71 [==============================] - 12s 175ms/step - loss: 0.4725 - accuracy: 0.7886 - val_loss: 0.4886 - val_accuracy: 0.8230\n",
            "Epoch 5/15\n",
            "71/71 [==============================] - 12s 175ms/step - loss: 0.4106 - accuracy: 0.8395 - val_loss: 0.4520 - val_accuracy: 0.8212\n",
            "Epoch 6/15\n",
            "71/71 [==============================] - 12s 175ms/step - loss: 0.4159 - accuracy: 0.8276 - val_loss: 0.4686 - val_accuracy: 0.7823\n",
            "Epoch 7/15\n",
            "71/71 [==============================] - 12s 174ms/step - loss: 0.4062 - accuracy: 0.8254 - val_loss: 0.4122 - val_accuracy: 0.8478\n",
            "Epoch 8/15\n",
            "71/71 [==============================] - 12s 174ms/step - loss: 0.3675 - accuracy: 0.8564 - val_loss: 0.4316 - val_accuracy: 0.8407\n",
            "Epoch 9/15\n",
            "71/71 [==============================] - 12s 175ms/step - loss: 0.3396 - accuracy: 0.8759 - val_loss: 0.5664 - val_accuracy: 0.8053\n",
            "Epoch 10/15\n",
            "71/71 [==============================] - 12s 175ms/step - loss: 0.3983 - accuracy: 0.8613 - val_loss: 0.4258 - val_accuracy: 0.8389\n"
          ],
          "name": "stdout"
        }
      ]
    },
    {
      "cell_type": "code",
      "metadata": {
        "id": "gNcQlYGTFkeQ",
        "colab_type": "code",
        "colab": {
          "base_uri": "https://localhost:8080/",
          "height": 337
        },
        "outputId": "ed7dae44-210b-4d61-a2c2-1386a1c5da11"
      },
      "source": [
        "import matplotlib.pyplot as plt\n",
        "plt.style.use('ggplot')\n",
        "\n",
        "def plot_history(history):\n",
        "    acc = history.history['accuracy']\n",
        "    val_acc = history.history['val_accuracy']\n",
        "    loss = history.history['loss']\n",
        "    val_loss = history.history['val_loss']\n",
        "    x = range(1, len(acc) + 1)\n",
        "\n",
        "    plt.figure(figsize=(12, 5))\n",
        "    plt.subplot(1, 2, 1)\n",
        "    plt.plot(x, acc, 'b', label='Training acc')\n",
        "    plt.plot(x, val_acc, 'r', label='Validation acc')\n",
        "    plt.title('Training and validation accuracy')\n",
        "    plt.legend()\n",
        "    plt.subplot(1, 2, 2)\n",
        "    plt.plot(x, loss, 'b', label='Training loss')\n",
        "    plt.plot(x, val_loss, 'r', label='Validation loss')\n",
        "    plt.title('Training and validation loss')\n",
        "    plt.legend()\n",
        "\n",
        "plot_history(history)"
      ],
      "execution_count": null,
      "outputs": [
        {
          "output_type": "display_data",
          "data": {
            "image/png": "[encoded data removed]",
            "text/plain": [
              "<Figure size 864x360 with 2 Axes>"
            ]
          },
          "metadata": {
            "tags": []
          }
        }
      ]
    },
    {
      "cell_type": "code",
      "metadata": {
        "id": "IjiEUDzLIs5o",
        "colab_type": "code",
        "colab": {
          "base_uri": "https://localhost:8080/",
          "height": 52
        },
        "outputId": "2d6548b4-ec11-4bb6-dbb3-65f9b6066ff3"
      },
      "source": [
        "model.evaluate(X_test, y_test)"
      ],
      "execution_count": null,
      "outputs": [
        {
          "output_type": "stream",
          "text": [
            "38/38 [==============================] - 1s 19ms/step - loss: 0.4206 - accuracy: 0.8428\n"
          ],
          "name": "stdout"
        },
        {
          "output_type": "execute_result",
          "data": {
            "text/plain": [
              "[0.42059582471847534, 0.8428453207015991]"
            ]
          },
          "metadata": {
            "tags": []
          },
          "execution_count": 90
        }
      ]
    },
    {
      "cell_type": "code",
      "metadata": {
        "id": "NSNbXKcQI7WC",
        "colab_type": "code",
        "colab": {
          "base_uri": "https://localhost:8080/",
          "height": 347
        },
        "outputId": "e17f866e-0759-4aee-ddc0-440e7e0178a4"
      },
      "source": [
        "from tensorflow.keras.models import Sequential\n",
        "from tensorflow.keras.layers import LSTM, Dense, Dropout\n",
        "from tensorflow.keras.layers import SpatialDropout1D\n",
        "from tensorflow.keras.layers import Embedding\n",
        "\n",
        "embedding_vector_length = 300\n",
        "\n",
        "model = Sequential()\n",
        "\n",
        "model.add(Embedding(vocab_size, embedding_vector_length, input_length=70,weights=[embedding_matrix],trainable=False))\n",
        "model.add(SpatialDropout1D(0.25))\n",
        "model.add(LSTM(50, dropout=0.5, recurrent_dropout=0.5))\n",
        "model.add(Dropout(0.2))\n",
        "model.add(Dense(1, activation='sigmoid'))\n",
        "model.compile(loss='binary_crossentropy',optimizer='adam', metrics=['accuracy'])\n",
        "print(model.summary())"
      ],
      "execution_count": null,
      "outputs": [
        {
          "output_type": "stream",
          "text": [
            "Model: \"sequential_22\"\n",
            "_________________________________________________________________\n",
            "Layer (type)                 Output Shape              Param #   \n",
            "=================================================================\n",
            "embedding_23 (Embedding)     (None, 70, 300)           3218700   \n",
            "_________________________________________________________________\n",
            "spatial_dropout1d_10 (Spatia (None, 70, 300)           0         \n",
            "_________________________________________________________________\n",
            "lstm_21 (LSTM)               (None, 50)                70200     \n",
            "_________________________________________________________________\n",
            "dropout_9 (Dropout)          (None, 50)                0         \n",
            "_________________________________________________________________\n",
            "dense_21 (Dense)             (None, 1)                 51        \n",
            "=================================================================\n",
            "Total params: 3,288,951\n",
            "Trainable params: 70,251\n",
            "Non-trainable params: 3,218,700\n",
            "_________________________________________________________________\n",
            "None\n"
          ],
          "name": "stdout"
        }
      ]
    },
    {
      "cell_type": "code",
      "metadata": {
        "id": "wFKma6v8OYR3",
        "colab_type": "code",
        "colab": {
          "base_uri": "https://localhost:8080/",
          "height": 677
        },
        "outputId": "e5728272-37fd-45fb-9dee-6367235c141f"
      },
      "source": [
        "early_stopping = EarlyStopping(monitor='val_loss', patience=3)\n",
        "history = model.fit(X_train, y_train, batch_size=32, epochs=30, validation_split=0.2, callbacks=[early_stopping])"
      ],
      "execution_count": null,
      "outputs": [
        {
          "output_type": "stream",
          "text": [
            "Epoch 1/30\n",
            "71/71 [==============================] - 9s 129ms/step - loss: 0.6932 - accuracy: 0.4965 - val_loss: 0.6907 - val_accuracy: 0.5292\n",
            "Epoch 2/30\n",
            "71/71 [==============================] - 9s 125ms/step - loss: 0.6870 - accuracy: 0.5262 - val_loss: 0.6843 - val_accuracy: 0.5381\n",
            "Epoch 3/30\n",
            "71/71 [==============================] - 9s 125ms/step - loss: 0.6843 - accuracy: 0.5443 - val_loss: 0.6803 - val_accuracy: 0.5752\n",
            "Epoch 4/30\n",
            "71/71 [==============================] - 9s 123ms/step - loss: 0.6787 - accuracy: 0.5412 - val_loss: 0.6787 - val_accuracy: 0.5416\n",
            "Epoch 5/30\n",
            "71/71 [==============================] - 9s 124ms/step - loss: 0.6728 - accuracy: 0.5598 - val_loss: 0.6698 - val_accuracy: 0.5699\n",
            "Epoch 6/30\n",
            "71/71 [==============================] - 9s 124ms/step - loss: 0.6488 - accuracy: 0.6028 - val_loss: 0.6096 - val_accuracy: 0.6673\n",
            "Epoch 7/30\n",
            "71/71 [==============================] - 9s 124ms/step - loss: 0.6240 - accuracy: 0.6653 - val_loss: 0.5830 - val_accuracy: 0.7186\n",
            "Epoch 8/30\n",
            "71/71 [==============================] - 9s 124ms/step - loss: 0.5897 - accuracy: 0.6973 - val_loss: 0.5640 - val_accuracy: 0.7204\n",
            "Epoch 9/30\n",
            "71/71 [==============================] - 9s 125ms/step - loss: 0.5710 - accuracy: 0.7181 - val_loss: 0.5406 - val_accuracy: 0.7646\n",
            "Epoch 10/30\n",
            "71/71 [==============================] - 9s 124ms/step - loss: 0.5577 - accuracy: 0.7256 - val_loss: 0.4955 - val_accuracy: 0.7717\n",
            "Epoch 11/30\n",
            "71/71 [==============================] - 9s 123ms/step - loss: 0.5567 - accuracy: 0.7332 - val_loss: 0.5244 - val_accuracy: 0.7628\n",
            "Epoch 12/30\n",
            "71/71 [==============================] - 9s 124ms/step - loss: 0.5385 - accuracy: 0.7456 - val_loss: 0.4729 - val_accuracy: 0.7858\n",
            "Epoch 13/30\n",
            "71/71 [==============================] - 9s 124ms/step - loss: 0.5217 - accuracy: 0.7624 - val_loss: 0.4508 - val_accuracy: 0.7929\n",
            "Epoch 14/30\n",
            "71/71 [==============================] - 9s 124ms/step - loss: 0.5160 - accuracy: 0.7513 - val_loss: 0.4681 - val_accuracy: 0.7929\n",
            "Epoch 15/30\n",
            "71/71 [==============================] - 9s 124ms/step - loss: 0.5251 - accuracy: 0.7447 - val_loss: 0.4446 - val_accuracy: 0.8071\n",
            "Epoch 16/30\n",
            "71/71 [==============================] - 9s 124ms/step - loss: 0.5003 - accuracy: 0.7673 - val_loss: 0.4445 - val_accuracy: 0.8035\n",
            "Epoch 17/30\n",
            "71/71 [==============================] - 9s 124ms/step - loss: 0.4980 - accuracy: 0.7686 - val_loss: 0.4799 - val_accuracy: 0.7982\n",
            "Epoch 18/30\n",
            "71/71 [==============================] - 9s 124ms/step - loss: 0.4892 - accuracy: 0.7779 - val_loss: 0.4986 - val_accuracy: 0.7540\n",
            "Epoch 19/30\n",
            "71/71 [==============================] - 9s 124ms/step - loss: 0.5040 - accuracy: 0.7642 - val_loss: 0.4546 - val_accuracy: 0.8000\n"
          ],
          "name": "stdout"
        }
      ]
    },
    {
      "cell_type": "code",
      "metadata": {
        "id": "opI9yhVQPliO",
        "colab_type": "code",
        "colab": {
          "base_uri": "https://localhost:8080/",
          "height": 337
        },
        "outputId": "479699cd-92c7-47ba-a530-666357a2f0df"
      },
      "source": [
        "import matplotlib.pyplot as plt\n",
        "plt.style.use('ggplot')\n",
        "\n",
        "def plot_history(history):\n",
        "    acc = history.history['accuracy']\n",
        "    val_acc = history.history['val_accuracy']\n",
        "    loss = history.history['loss']\n",
        "    val_loss = history.history['val_loss']\n",
        "    x = range(1, len(acc) + 1)\n",
        "\n",
        "    plt.figure(figsize=(12, 5))\n",
        "    plt.subplot(1, 2, 1)\n",
        "    plt.plot(x, acc, 'b', label='Training acc')\n",
        "    plt.plot(x, val_acc, 'r', label='Validation acc')\n",
        "    plt.title('Training and validation accuracy')\n",
        "    plt.legend()\n",
        "    plt.subplot(1, 2, 2)\n",
        "    plt.plot(x, loss, 'b', label='Training loss')\n",
        "    plt.plot(x, val_loss, 'r', label='Validation loss')\n",
        "    plt.title('Training and validation loss')\n",
        "    plt.legend()\n",
        "\n",
        "plot_history(history)"
      ],
      "execution_count": null,
      "outputs": [
        {
          "output_type": "display_data",
          "data": {
            "image/png": "[encoded data removed]",
            "text/plain": [
              "<Figure size 864x360 with 2 Axes>"
            ]
          },
          "metadata": {
            "tags": []
          }
        }
      ]
    },
    {
      "cell_type": "code",
      "metadata": {
        "id": "gy-0ylw6Pq0W",
        "colab_type": "code",
        "colab": {
          "base_uri": "https://localhost:8080/",
          "height": 52
        },
        "outputId": "46f15f5b-9b06-4bb5-f39c-8df78bd81c6b"
      },
      "source": [
        "model.evaluate(X_test, y_test)"
      ],
      "execution_count": null,
      "outputs": [
        {
          "output_type": "stream",
          "text": [
            "38/38 [==============================] - 1s 18ms/step - loss: 0.4899 - accuracy: 0.7800\n"
          ],
          "name": "stdout"
        },
        {
          "output_type": "execute_result",
          "data": {
            "text/plain": [
              "[0.48991459608078003, 0.7799834609031677]"
            ]
          },
          "metadata": {
            "tags": []
          },
          "execution_count": 103
        }
      ]
    }
  ]
}